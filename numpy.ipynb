{
 "metadata": {
  "language_info": {
   "codemirror_mode": {
    "name": "ipython",
    "version": 3
   },
   "file_extension": ".py",
   "mimetype": "text/x-python",
   "name": "python",
   "nbconvert_exporter": "python",
   "pygments_lexer": "ipython3",
   "version": "3.8.5-final"
  },
  "orig_nbformat": 2,
  "kernelspec": {
   "name": "python3",
   "display_name": "Python 3.8.5 64-bit ('env-deep')",
   "metadata": {
    "interpreter": {
     "hash": "0bccfaaf16db707055675f75c646004221b9c047ed69dc7345335589c3460646"
    }
   }
  }
 },
 "nbformat": 4,
 "nbformat_minor": 2,
 "cells": [
  {
   "source": [
    "# NumPy\n",
    "\n",
    "NumPy is a Python scientific computing package, which allows you to do large-scale multi-dimensional array operations easily and efficiently, and provides many Mathematical and Scientific libraries to help you perform scientific computations easily."
   ],
   "cell_type": "markdown",
   "metadata": {}
  },
  {
   "cell_type": "code",
   "execution_count": 1,
   "metadata": {},
   "outputs": [],
   "source": [
    "import numpy as np"
   ]
  },
  {
   "source": [
    "## N-dimensional Array Basics\n",
    "\n",
    "```np.array()``` creates an n-dimensional array. The elements must be of same type.\n",
    "\n",
    "For one dimensional array, pass a Python list (or any sequence type) into the constructor. For higher dimensions, use a nested list."
   ],
   "cell_type": "markdown",
   "metadata": {}
  },
  {
   "cell_type": "code",
   "execution_count": null,
   "metadata": {},
   "outputs": [],
   "source": [
    "x = np.array([1, 2, 3])\n",
    "print(type(x))  # <class 'numpy.ndarray'>\n",
    "\n",
    "y = np.array([[1, 2, 3], \n",
    "              [-1, 4, 7]])"
   ]
  },
  {
   "source": [
    "In NumPy, a dimension is called an axis.\n",
    "\n",
    "```np.array([1, 2, 3])``` has one axis (axis 0) with 3 elements.\n",
    "\n",
    "```np.array([[1, 2, 3], [-1, 4, 7]])``` has two axes. Axis 0 has 2 elements (rows), axis 1 has 3 elements (columns)."
   ],
   "cell_type": "markdown",
   "metadata": {}
  },
  {
   "cell_type": "code",
   "execution_count": null,
   "metadata": {},
   "outputs": [],
   "source": [
    "x = np.array([[[0, 1, 2, 3],\n",
    "               [4, 5, 6, 7]],\n",
    "\n",
    "              [[0, 1, 2, 3],\n",
    "               [4, 5, 6, 7]],\n",
    "               \n",
    "              [[0 ,1 ,2, 3],\n",
    "               [4, 5, 6, 7]]])\n",
    "\n",
    "print(x.ndim)    ## 3\n",
    "print(x.shape)   ## (3, 2, 4)\n",
    "print(x.size)    ## 24\n",
    "print(x.dtype)   ## int64"
   ]
  },
  {
   "source": [
    "## NumPy array factory methods\n",
    "\n",
    "| Methods                                       | Actions                                                           |\n",
    "| :-------------------------------------------- | :---------------------------------------------------------------- |\n",
    "| ```np.zeros(dim)```                           | Create a new array of dim dimensions filled with 0s.              |\n",
    "| ```np.ones(dim)```                            | Create a new array of dim dimensions filled with 1s.              |\n",
    "| ```np.full(dim, num)```                       | Create a new array of dim dimensions filled with num.             |\n",
    "| ```np.empty(dim)```                           | Create a new array of dim dimensions filled with random numbers.  |\n",
    "| ```np.eye(dim)``` /  ```np.identity(dim)```   | Create a new identity matrix of dim dimensions.                   |"
   ],
   "cell_type": "markdown",
   "metadata": {}
  },
  {
   "cell_type": "code",
   "execution_count": null,
   "metadata": {},
   "outputs": [],
   "source": [
    "x = np.zeros((2, 3))\n",
    "x = np.ones((2, 3))     # 2 rows, 3 columns\n",
    "x = np.full((2, 3), 9)\n",
    "x = np.empty((2, 3))\n",
    "x = np.eye(3)\n",
    "x = np.identity(3)"
   ]
  },
  {
   "source": [
    "```np.arange(start, stop, step)``` is equivalent to Python's ```range()```.\n",
    "\n",
    "For non-integer arguments, using ```np.linspace(start_inclusive, end_inclusive, num=interval)``` is preferred due to floating point precision issues."
   ],
   "cell_type": "markdown",
   "metadata": {}
  },
  {
   "cell_type": "code",
   "execution_count": null,
   "metadata": {},
   "outputs": [],
   "source": [
    "x = np.arange(3, 11, 2)\n",
    "x = np.linspace(0, 10, num=5)"
   ]
  },
  {
   "source": [
    "```np.zeroes_like(arr)```, ```np.ones_like(arr)```, ```np.full_like(arr)```, ```np.empty_like(arr)``` creates the respective arrays with the same shape and type as arr."
   ],
   "cell_type": "markdown",
   "metadata": {}
  },
  {
   "cell_type": "code",
   "execution_count": null,
   "metadata": {},
   "outputs": [],
   "source": [
    "x = np.array([[1, 2, 3], \n",
    "              [4, 5, 6]])\n",
    "print(x.shape)  # (2, 3)\n",
    "\n",
    "x_zero = np.zeros_like(x)\n",
    "x_ones = np.ones_like(x)\n",
    "x_full = np.full_like(x, 3)\n",
    "x_empty = np.empty_like(x)"
   ]
  },
  {
   "source": [
    "## Arithmetic Operations\n",
    "\n",
    "Elementwise operations are done like vector operations (vectorisation)."
   ],
   "cell_type": "markdown",
   "metadata": {}
  },
  {
   "cell_type": "code",
   "execution_count": null,
   "metadata": {},
   "outputs": [],
   "source": [
    "x = np.array([1, 2, 3])\n",
    "y = np.array([4, 5, 6])\n",
    "\n",
    "# Elementwise addition and subtraction\n",
    "print(x + 2)    # [3 4 5 6]\n",
    "print(x - y)    # [1 1 1 1]\n",
    "\n",
    "# Elementwise boolean operations\n",
    "print(x < 3)        # [ True  True False False]\n",
    "print(x + y > 5)    # [False False False  True]"
   ]
  },
  {
   "cell_type": "code",
   "execution_count": null,
   "metadata": {},
   "outputs": [],
   "source": [
    "a = np.array([[1, 2], \n",
    "              [3, 4]])\n",
    "b = np.array([[2, 3],\n",
    "              [4, 5]])\n",
    "\n",
    "# Multiplying an array with a scalar\n",
    "print(a * 3)    # [[ 3  6]\n",
    "                #  [ 9 12]]\n",
    "\n",
    "# Elementwise multiplication (NOT Matrix Multiplication)\n",
    "print(a * b)    # [[ 2  6]\n",
    "                #  [12 20]]\n",
    "\n",
    "# Elementwise division\n",
    "print(a / b)    # [[0.5        0.66666667]\n",
    "                #  [0.75       0.8       ]]"
   ]
  },
  {
   "cell_type": "code",
   "execution_count": null,
   "metadata": {},
   "outputs": [],
   "source": [
    "a = np.array([[1, 2], \n",
    "              [3, 4]])\n",
    "b = np.array([[2, 3], \n",
    "              [4, 5]])\n",
    "\n",
    "# Matrix multiplications\n",
    "print(a @ b)\n",
    "print(np.matmul(a, b))  # [[10 13]\n",
    "                        #  [22 29]]"
   ]
  },
  {
   "cell_type": "code",
   "execution_count": null,
   "metadata": {},
   "outputs": [],
   "source": [
    "x = np.array([1, 2, 3])\n",
    "y = np.array([2, 3, 4])\n",
    "\n",
    "# Dot product\n",
    "print(np.dot(x, y)) # 20"
   ]
  },
  {
   "source": [
    "## Indexing and Slicing\n",
    "\n",
    "### Integer array indexing\n",
    "\n",
    "1D arrays are accessed just like a Python list with []. Slicing works as well.\n",
    "\n",
    "Miltidimensional arrays are accessed by separating indicies with a comma. While you can also access multidimensional arrays like Python lists (e.g. y\\[0]\\[1]), this is much slower than the alternate approach (y\\[0, 1])."
   ],
   "cell_type": "markdown",
   "metadata": {}
  },
  {
   "cell_type": "code",
   "execution_count": null,
   "metadata": {},
   "outputs": [],
   "source": [
    "x = np.array([1, 2, 3, 4, 5])\n",
    "\n",
    "x[0]\n",
    "x[-1]\n",
    "x[2:4]\n",
    "x[:3]"
   ]
  },
  {
   "cell_type": "code",
   "execution_count": null,
   "metadata": {},
   "outputs": [],
   "source": [
    "y = np.array([[1, 2, 3, 5], \n",
    "              [-1, 4, 7, 9]]) \n",
    "\n",
    "y[0,1]\n",
    "y[-1,-2]\n",
    "y[1:3, :-1] # (2nd~3rd row, 1st~2nd to last col)\n",
    "y[:,:]\n",
    "y[0]"
   ]
  },
  {
   "cell_type": "code",
   "execution_count": null,
   "metadata": {},
   "outputs": [],
   "source": [
    "y = np.array([[1, 2, 3, 5], \n",
    "              [-1, 4, 7, 9]])\n",
    "\n",
    "# (row 1, col 3; and row 0, col 2)\n",
    "print(y[[1, 0], [3, 2]])    # [9 3]"
   ]
  },
  {
   "source": [
    "### Boolean indexing\n",
    "\n",
    "You can also access elements in an array with a boolean array as its indicies.\n",
    "\n",
    "It is mainly useful for filtering out the arrays."
   ],
   "cell_type": "markdown",
   "metadata": {}
  },
  {
   "cell_type": "code",
   "execution_count": null,
   "metadata": {},
   "outputs": [],
   "source": [
    "x = np.array([1, 2, 3, 4, 5])\n",
    "condition = np.array([True, False, False, True, True])\n",
    "\n",
    "# Only keep elements that match to True\n",
    "print(x[condition]) # [1 4 5]"
   ]
  },
  {
   "cell_type": "code",
   "execution_count": null,
   "metadata": {},
   "outputs": [],
   "source": [
    "y = np.array([[1, 2, 3, 5], \n",
    "              [-1, 4, 7, 9]])\n",
    "\n",
    "print(y < 4)    # [[ True  True  True False]\n",
    "                #  [ True False False False]]\n",
    "print(y[y < 4]) # [ 1  2  3 -1]\n",
    "\n",
    "# The condition can be complex\n",
    "y[(y < 4) & (y > 1)]\n",
    "y[np.logical_and(y < 4, y > 1)]"
   ]
  },
  {
   "source": [
    "## Reshaping arrays\n",
    "\n",
    "### Flattening an array\n",
    "\n",
    "```arr.flatten()``` creates a new flattened array with a new copy of the elements.\n",
    "\n",
    "```arr.ravel()``` creates a new flattened array with the reference to the elements."
   ],
   "cell_type": "markdown",
   "metadata": {}
  },
  {
   "cell_type": "code",
   "execution_count": null,
   "metadata": {},
   "outputs": [],
   "source": [
    "x = np.array([[0, 1, 2, 3],\n",
    "              [4, 5, 6, 7],\n",
    "              [-6, -5, -4, -3]])\n",
    "\n",
    "v = x.flatten()\n",
    "v[0] = 10\n",
    "print(x[0,0] == v[0])   # False\n",
    "\n",
    "v = x.ravel()\n",
    "v[0] = 10\n",
    "print(x[0,0] == v[0])   # True"
   ]
  },
  {
   "cell_type": "code",
   "execution_count": null,
   "metadata": {},
   "outputs": [],
   "source": [
    "x = np.array([[0, 1, 2, 3],\n",
    "              [4, 5, 6, 7],\n",
    "              [-6, -5, -4, -3]])\n",
    "\n",
    "# Transposing an array\n",
    "x.transpose()\n",
    "x.T"
   ]
  },
  {
   "source": [
    "### Reshaping an array\n",
    "\n",
    "```arr.reshape()``` creates a new resized array. The total number of elements has to be the same as the old array. You can use -1 for one of the axes to automatically infer the size of the axis.\n",
    "\n",
    "```arr.resize()``` is the same as reshape() except it modifies arr instead of creating a new one."
   ],
   "cell_type": "markdown",
   "metadata": {}
  },
  {
   "cell_type": "code",
   "execution_count": null,
   "metadata": {},
   "outputs": [],
   "source": [
    "x = np.array([[0, 1, 2, 3],\n",
    "              [4, 5, 6, 7],\n",
    "              [-6, -5, -4, -3]])\n",
    "\n",
    "x.reshape((4,3))\n",
    "# [[ 0  1  2]\n",
    "#  [ 3  4  5]\n",
    "#  [ 6  7 -6]\n",
    "#  [-5 -4 -3]]\n",
    "\n",
    "x.reshape((6,2))\n",
    "# [[ 0  1]\n",
    "#  [ 2  3]\n",
    "#  [ 4  5]\n",
    "#  [ 6  7]\n",
    "#  [-6 -5]\n",
    "#  [-4 -3]]\n",
    "\n",
    "# Array can be reshaped to different dimensions\n",
    "x.reshape((2,3,2))\n",
    "# [[[ 0  1]\n",
    "#   [ 2  3]\n",
    "#   [ 4  5]]\n",
    "#\n",
    "#  [[ 6  7]\n",
    "#   [-6 -5]\n",
    "#   [-4 -3]]]\n",
    "\n",
    "# One of the axes can be inferred by putting -1\n",
    "x.reshape((2,-1))\n",
    "# [[ 0,  1,  2,  3,  4,  5],\n",
    "#  [ 6,  7, -6, -5, -4, -3]]"
   ]
  },
  {
   "source": [
    "By default arrays are reshaped in row-major order. \n",
    "\n",
    "This can be changed to column-major order (Like in MATLAB/Fortran) by assigning a keyword argument ```order='F'``` to reshape()."
   ],
   "cell_type": "markdown",
   "metadata": {}
  },
  {
   "cell_type": "code",
   "execution_count": null,
   "metadata": {},
   "outputs": [],
   "source": [
    "x = np.array([[0, 1, 2, 3],\n",
    "              [4, 5, 6, 7],\n",
    "              [8, 9, 10, 11]])\n",
    "\n",
    "print(x.reshape((4,3)))\n",
    "# [[ 0  1  2]\n",
    "#  [ 3  4  5]\n",
    "#  [ 6  7  8]\n",
    "#  [ 9 10 11]]\n",
    "\n",
    "# The input array is read in a column-major order\n",
    "print(x.reshape((4,3), order='F'))\n",
    "# [[ 0  5 10]\n",
    "#  [ 4  9  3]\n",
    "#  [ 8  2  7]\n",
    "#  [ 1  6 11]]"
   ]
  },
  {
   "source": [
    "### Adding a new axis to NumPy array\n",
    "\n",
    "To add a new axis/dimension to an existing NumPy array, use ```np.newaxis```. This would be used to convert 1D arrays to a higher dimensional array.\n",
    "\n",
    "This is useful if a NumPy array to a row vector or a column vector."
   ],
   "cell_type": "markdown",
   "metadata": {}
  },
  {
   "source": [
    "x = np.array([1, 2, 3, 4, 5, 6])\n",
    "print(x.shape)    # (6, )\n",
    "\n",
    "y = x[np.newaxis, :]\n",
    "print(y.shape)    # (1, 6) \n",
    "\n",
    "# dim = (1, 6)\n",
    "row_vector = x[np.newaxis, :]\n",
    "row_vector = np.expand_dims(x, axis=0)\n",
    "# [[1 2 3 4 5 6]]\n",
    "\n",
    "# dim = (6, 1)\n",
    "col_vector = x[:, np.newaxis]\n",
    "col_vector = np.expand_dims(x, axis=1)\n",
    "# [[1]\n",
    "#  [2]\n",
    "#  [3]\n",
    "#  [4]\n",
    "#  [5]\n",
    "#  [6]]"
   ],
   "cell_type": "code",
   "metadata": {},
   "execution_count": null,
   "outputs": []
  },
  {
   "source": [
    "### Removing redundant dimensions\n",
    "\n",
    "Arrays with extra redundant dimensions (e.g. (3,1,2)) can be converted to arrays without the extra dimension (e.g. (3,2)) by using ```arr.squeeze()``` method."
   ],
   "cell_type": "markdown",
   "metadata": {}
  },
  {
   "cell_type": "code",
   "execution_count": null,
   "metadata": {},
   "outputs": [],
   "source": [
    "# Note the extra square brackets\n",
    "x = np.array([[[1,2]],\n",
    "              [[3,4]],\n",
    "              [[5,6]]])\n",
    "\n",
    "y = x.squeeze()\n",
    "print(y.shape)  # (3,2)"
   ]
  },
  {
   "cell_type": "code",
   "execution_count": null,
   "metadata": {},
   "outputs": [],
   "source": [
    "x = np.array([[[0],\n",
    "               [0], \n",
    "               [0]]])\n",
    "print(x.shape)      # (1, 3, 1)\n",
    "\n",
    "y = x.squeeze(axis=0)\n",
    "print(y.shape)      # (3, 1)\n",
    "y = x.squeeze(axis=2)\n",
    "print(y.shape)      # (1, 3)"
   ]
  },
  {
   "source": [
    "## Splitting arrays\n",
    "\n",
    "Arrays can be split into multiple evenly sized sub-arrays with ```np.split()```.\n",
    "\n",
    "```np.array_split()``` also allows splitting an array without needing to be strictly even."
   ],
   "cell_type": "markdown",
   "metadata": {}
  },
  {
   "cell_type": "code",
   "execution_count": null,
   "metadata": {},
   "outputs": [],
   "source": [
    "x = np.arange(1, 19).reshape(2, 9)  # [[ 1  2  3  4  5  6  7  8  9]\n",
    "                                    #  [10 11 12 13 14 15 16 17 18]]\n",
    "\n",
    "# Split on axis 1 (columns) into 3 evenly sized sub-arrays.\n",
    "y = np.split(x, 3, axis=1)\n",
    "print(y[0])\n",
    "# [[ 1  2  3]\n",
    "#  [10 11 12]]\n",
    "\n",
    "print(y[1])\n",
    "# [[ 4  5  6]\n",
    "#  [13 14 15]]\n",
    "\n",
    "print(y[2])\n",
    "# [[ 7  8  9]\n",
    "#  [16 17 18]]\n",
    "\n",
    "# Split on axis 0 (rows) into 2 evenly sized sub-arrays.\n",
    "y = np.split(x, 2, axis=0)\n",
    "print(y[0])\n",
    "# [[1 2 3 4 5 6 7 8 9]]\n",
    "\n",
    "print(y[1])\n",
    "# [[10 11 12 13 14 15 16 17 18]]"
   ]
  },
  {
   "cell_type": "code",
   "execution_count": null,
   "metadata": {},
   "outputs": [],
   "source": [
    "x = np.arange(1, 22).reshape(3, 7)\n",
    "\n",
    "y = np.array_split(x, 3, axis=1)\n",
    "print(y[0].shape)   # (3, 3)\n",
    "print(y[1].shape)   # (3, 2)\n",
    "print(y[2].shape)   # (3, 2)"
   ]
  },
  {
   "source": [
    "You can also specify where to split by giving a list or tuple as the second argument (instead of an integer)."
   ],
   "cell_type": "markdown",
   "metadata": {}
  },
  {
   "cell_type": "code",
   "execution_count": null,
   "metadata": {},
   "outputs": [],
   "source": [
    "x = np.arange(1, 22).reshape(3, 7)\n",
    "\n",
    "# Split on axis 1 (column) at (just before) columns 2 and 6\n",
    "y = np.split(x, [2, 6], axis=1)\n",
    "print(y[0].shape)   # (3, 2)\n",
    "print(y[1].shape)   # (3, 4)\n",
    "print(y[2].shape)   # (3, 1)"
   ]
  },
  {
   "source": [
    "There are special functions that split at specific axes.\n",
    "\n",
    "* np.```vsplit```(arr, section == np.split(arr, section, axis=0)\n",
    "* np.```hsplit```(arr, section) == np.split(arr, section, axis=1)\n",
    "* np.```dsplit```(arr, section) == np.split(arr, section, axis=3)  (For 3D+ arrays)"
   ],
   "cell_type": "markdown",
   "metadata": {}
  },
  {
   "source": [
    "## Joining Arrays\n",
    "\n",
    "| Method                                | Action                                                    |\n",
    "| :------------------------------------ | :-------------------------------------------------------- |\n",
    "| ```np.concatenate(arrays, axis=)```   | Join along an existing axis (does not create a new axis). |\n",
    "| ```np.stack(arrays, axis=)```         | Join along a new axis.                                    |\n",
    "\n",
    "There are specialised versions of ```np.stack()```: ```np.vstack()```, ```np.hstack()```, ```np.dstack()``` for axis 0 (vertical), 1 (horizontal), 2 (depth) respectively."
   ],
   "cell_type": "markdown",
   "metadata": {}
  },
  {
   "cell_type": "code",
   "execution_count": null,
   "metadata": {},
   "outputs": [],
   "source": [
    "a = np.array([[1, 2], \n",
    "              [3, 4]])\n",
    "b = np.array([[5, 6]])\n",
    "\n",
    "print(np.concatenate((a, b), axis=0))\n",
    "# [[1 2]\n",
    "#  [3 4]\n",
    "#  [5 6]]\n",
    "\n",
    "print(np.concatenate((a, b.T), axis=1))\n",
    "# [[1 2 5]\n",
    "#  [3 4 6]]"
   ]
  },
  {
   "cell_type": "code",
   "execution_count": null,
   "metadata": {},
   "outputs": [],
   "source": [
    "c = np.array([1, 2, 3])\n",
    "d = np.array([4, 5, 6])\n",
    "\n",
    "print(np.stack((c, d), axis=0))\n",
    "# [[1 2 3]\n",
    "#  [4 5 6]]\n",
    "\n",
    "print(np.stack((c, d), axis=1))\n",
    "# [[1 4]\n",
    "#  [2 5]\n",
    "#  [3 6]]"
   ]
  },
  {
   "source": [
    "## Repeating array\n",
    "\n",
    "```np.repeat(num, count)``` creates a new array containing ```count``` number of ```num```."
   ],
   "cell_type": "markdown",
   "metadata": {}
  },
  {
   "cell_type": "code",
   "execution_count": null,
   "metadata": {},
   "outputs": [],
   "source": [
    "np.repeat(-3, 2)    # [-3, -3]"
   ]
  },
  {
   "cell_type": "code",
   "execution_count": null,
   "metadata": {},
   "outputs": [],
   "source": [
    "x = np.array([[1, 2], \n",
    "              [2, 4]])\n",
    "\n",
    "np.repeat(x, 2)\n",
    "# [1, 1, 2, 2, 2, 2, 4, 4]\n",
    "\n",
    "np.repeat(x, 2, axis=0)\n",
    "# [[1, 2],\n",
    "#  [1, 2],\n",
    "#  [2, 4],\n",
    "#  [2, 4]]\n",
    "\n",
    "np.repeat(x, 2, axis=1)\n",
    "# [[1, 1, 2, 2],\n",
    "#  [2, 2, 4, 4]]"
   ]
  },
  {
   "source": [
    "You can also specify the number of repeats individually with a list."
   ],
   "cell_type": "markdown",
   "metadata": {}
  },
  {
   "cell_type": "code",
   "execution_count": null,
   "metadata": {},
   "outputs": [],
   "source": [
    "x = np.array([[1, 2], \n",
    "              [3, 4]])\n",
    "\n",
    "np.repeat(x, [1, 2], axis=0)\n",
    "# [[1 2]\n",
    "#  [3 4]\n",
    "#  [3 4]]\n",
    "\n",
    "np.repeat(x, [3, 2], axis=0)\n",
    "# [[1, 2],\n",
    "#  [1, 2],\n",
    "#  [1, 2],\n",
    "#  [3, 4],\n",
    "#  [3, 4]]"
   ]
  },
  {
   "source": [
    "## Mathematical Functions\n",
    "\n",
    "### Minimum and Maximum\n",
    "\n",
    "To get the minimum and/or maximum of an array, use ```arr.min()``` and ```arr.max()``` respectively.\n",
    "\n",
    "To get the indicies for the min/max values, use ```arr.argmin()``` and ```arr.argmax()```."
   ],
   "cell_type": "markdown",
   "metadata": {}
  },
  {
   "cell_type": "code",
   "execution_count": null,
   "metadata": {},
   "outputs": [],
   "source": [
    "a = np.array([[4, 7, 3],\n",
    "              [1, 2, 5]])\n",
    "\n",
    "# Compute overall min/max\n",
    "a.min()     # 1\n",
    "a.max()     # 7\n",
    "\n",
    "# Compute min/max across rows\n",
    "a.min(axis=0)   # [1 2 3]\n",
    "a.max(axis=0)   # [4 7 5]\n",
    "\n",
    "# Compute min/max across columns\n",
    "a.min(axis=1)   # [3 1]\n",
    "a.max(axis=1)   # [7 5]"
   ]
  },
  {
   "source": [
    "### Statistical Methods for Arrays\n",
    "\n",
    "| Method                    | Action                                    |\n",
    "| :------------------------ | :---------------------------------------- |\n",
    "| ```arr.mean(axis= )```    | Computes the mean of arr.                 |\n",
    "| ```arr.std(axis= )```     | Computes the standard deviation of arr.   |\n",
    "| ```arr.var(axis= )```     | Computes the variance of arr.             |"
   ],
   "cell_type": "markdown",
   "metadata": {}
  },
  {
   "source": [
    "### Sum and Cumulative Sum\n",
    "\n",
    "```arr.sum(axis= )``` can be used to sum all elements of arr or compute the sum across a specified axis.\n",
    "\n",
    "```arr.cumsum(axis= )``` can be used to calculate the cumulative sum across the array or a specified axis."
   ],
   "cell_type": "markdown",
   "metadata": {}
  },
  {
   "cell_type": "code",
   "execution_count": null,
   "metadata": {},
   "outputs": [],
   "source": [
    "a = np.arange(24).reshape((2,3,4))\n",
    "# [[[ 0  1  2  3]\n",
    "#   [ 4  5  6  7]\n",
    "#   [ 8  9 10 11]]\n",
    "# \n",
    "#  [[12 13 14 15]\n",
    "#   [16 17 18 19]\n",
    "#   [20 21 22 23]]]\n",
    "\n",
    "a.sum()     # 276\n",
    "\n",
    "a.sum(axis=0)\n",
    "# [[12 14 16 18]\n",
    "#  [20 22 24 26]\n",
    "#  [28 30 32 34]]\n",
    "\n",
    "a.sum(axis=1)\n",
    "# [[12 15 18 21]\n",
    "#  [48 51 54 57]]\n",
    "\n",
    "a.sum(axis=2)\n",
    "# [[ 6 22 38]\n",
    "#  [54 70 86]]"
   ]
  },
  {
   "source": [
    "### Product and Cumulative Product\n",
    "\n",
    "Just like .sum() and .cumsum(), ```arr.prod(axis= )``` and ```arr.cumprod(axis= )``` computes the elementwise product and cumulative elementwise product."
   ],
   "cell_type": "markdown",
   "metadata": {}
  },
  {
   "source": [
    "### Other Mathematical Functions\n",
    "\n",
    "These functions are applied to arrays in an elementwise fashion\n",
    "\n",
    "* ```np.floor(arr)```: Floor function\n",
    "* ```np.round(arr)```: Round function\n",
    "* ```np.exp(arr)```: Exponential function\n",
    "* ```np.sqrt(arr)```: Square root\n",
    "* ```np.sin(arr)```: Sin function\n",
    "* ```np.cos(arr)```: Cos function"
   ],
   "cell_type": "markdown",
   "metadata": {}
  },
  {
   "source": [
    "## Indexing Functions\n",
    "\n",
    "### Boolean functions\n",
    "\n",
    "```np.all(arr, axis= )``` checks whether all elements in arr are truthy i.e. the values are nonzero.\n",
    "\n",
    "```np.any(arr, axis= )``` checks whether arr contains at least one truthy value.\n",
    "\n",
    "For multidimensional arrays, specific axis can also be checked."
   ],
   "cell_type": "markdown",
   "metadata": {}
  },
  {
   "source": [
    "### Searching Functions\n",
    "\n",
    "```np.nonzero(arr)``` returns the indicies of all elements that are not zero (or not False)."
   ],
   "cell_type": "markdown",
   "metadata": {}
  },
  {
   "cell_type": "code",
   "execution_count": null,
   "metadata": {},
   "outputs": [],
   "source": [
    "x = np.array([[0, 2, 2], \n",
    "              [0, 3, 0]])\n",
    "\n",
    "print(np.nonzero(x))    # (array([0, 0, 1]), array([1, 2, 1]))\n",
    "print(x[np.nonzero(x)]) # [2 2 3]"
   ]
  },
  {
   "source": [
    "### Finding Unique Elements\n",
    "\n",
    "```np.unique(arr)``` nubs through the array "
   ],
   "cell_type": "markdown",
   "metadata": {}
  },
  {
   "cell_type": "code",
   "execution_count": null,
   "metadata": {},
   "outputs": [],
   "source": [
    "x = np.array([12, 15, 13, 15, 16, 17, 13, 13, 18, 13, 19, 18, 11, 16, 15])\n",
    "\n",
    "unique_x = np.unique(x)\n",
    "\n",
    "# unique_indicies returns the index of first occurence of each unique elements\n",
    "(unique_x, unique_indicies) = np.unique(x, return_index=True)\n",
    "\n",
    "# unique_counts counts the number of times each unique elements occurs in array\n",
    "(unique_x, unique_counts) = np.unique(x, return_counts=True)"
   ]
  },
  {
   "source": [
    "### Sorting Functions\n",
    "\n",
    "```np.sort(arr)``` sorts the array. You can also specify the axis to sort across rows or columns.\n",
    "\n",
    "```np.argsort(arr)``` returns the indicies after a sort."
   ],
   "cell_type": "markdown",
   "metadata": {}
  },
  {
   "cell_type": "code",
   "execution_count": null,
   "metadata": {},
   "outputs": [],
   "source": [
    "a = np.array([[2, 5, 6],\n",
    "              [3, 1, 2]])\n",
    "print(np.sort(a))\n",
    "# [[2 5 6]\n",
    "#  [1 2 3]]"
   ]
  },
  {
   "cell_type": "code",
   "execution_count": null,
   "metadata": {},
   "outputs": [],
   "source": [
    "b = np.array([[6, 4],\n",
    "              [1, 0],\n",
    "              [2, 7]])\n",
    "\n",
    "# Sort rows\n",
    "print(np.sort(b, axis=0))\n",
    "# [[1 0]    |\n",
    "#  [2 4]    |\n",
    "#  [6 7]]   v\n",
    "\n",
    "# Sort columns\n",
    "print(np.sort(b, axis=1))\n",
    "# [[4 6]    ---->\n",
    "#  [0 1]\n",
    "#  [2 7]]"
   ]
  },
  {
   "source": [
    "### Diagonals"
   ],
   "cell_type": "markdown",
   "metadata": {}
  },
  {
   "cell_type": "code",
   "execution_count": null,
   "metadata": {},
   "outputs": [],
   "source": [
    "x = np.array([[10, 4, 2], \n",
    "              [6, 9, 3], \n",
    "              [1, 5, 8]])\n",
    "\n",
    "print(x.diagonal())             # [10  9  8]\n",
    "print(x.diagonal(offset=1))     # [4 3]\n",
    "print(x.diagonal(offset=-1))    # [6 5]"
   ]
  },
  {
   "source": [
    "## Miscellaneous\n",
    "\n",
    "### Loading and Saving Arrays\n",
    "\n",
    "You can save and load NumPy arrays onto/from the disk. There are two methods for saving the arrays:\n",
    "\n",
    "1. Save them as binary files. ```*.npy``` files are used for one array, and ```*.npz``` files are used for multiple arrays.\n",
    "2. Save them as text (csv) files."
   ],
   "cell_type": "markdown",
   "metadata": {}
  },
  {
   "cell_type": "code",
   "execution_count": null,
   "metadata": {},
   "outputs": [],
   "source": [
    "# Option 1: Save them as binary files\n",
    "# Save a single array\n",
    "a = np.array([1, 2, 3, 4, 5, 6])\n",
    "np.save(\"myfile\", a)\n",
    "a_fromdisk = np.load(\"myfile.npy\")\n",
    "\n",
    "# Save multiple arrays\n",
    "b = np.array([[1,2],[3,4]])\n",
    "np.savez(\"multiple\", a=a, b=b)\n",
    "c = np.load(\"multiple.npz\")"
   ]
  },
  {
   "cell_type": "code",
   "execution_count": null,
   "metadata": {},
   "outputs": [],
   "source": [
    "# Option 2: Save them as text/csv files\n",
    "a = np.array([1, 2, 3, 4, 5, 6])\n",
    "np.savetxt(\"myfile.csv\", a)\n",
    "a_fromtext = np.loadtxt(\"myfile.csv\")"
   ]
  },
  {
   "source": [
    "### Generating Random Numbers"
   ],
   "cell_type": "markdown",
   "metadata": {}
  },
  {
   "cell_type": "code",
   "execution_count": null,
   "metadata": {},
   "outputs": [],
   "source": [
    "from numpy.random import default_rng"
   ]
  },
  {
   "cell_type": "code",
   "execution_count": null,
   "metadata": {},
   "outputs": [],
   "source": [
    "seed = 777\n",
    "rg = default_rng(seed)"
   ]
  },
  {
   "cell_type": "code",
   "execution_count": null,
   "metadata": {},
   "outputs": [],
   "source": [
    "# Generate a random matrix with the given dimension\n",
    "x = rg.random((5,3))\n",
    "\n",
    "# Generate random integers from 1 (inclusive) to 10 (exclusive)\n",
    "y = rg.integers(1, 10, size=(5,3))  \n",
    "print(y)"
   ]
  },
  {
   "source": [
    "### Printing more values\n",
    "\n",
    "NumPy prints only the start and end of the array if the array is too large.\n",
    "\n",
    "This can change by calling ```np.set_printoptions(threshold= )```. The default threshold is 1000."
   ],
   "cell_type": "markdown",
   "metadata": {}
  },
  {
   "cell_type": "code",
   "execution_count": null,
   "metadata": {},
   "outputs": [],
   "source": [
    "np.set_printoptions(threshold=10000)"
   ]
  },
  {
   "source": [
    "# Matplotlib\n",
    "\n",
    "Matplotlib is a visualisation library for Python. It allows you to easily plot graphs, charts, figures, etc.\n",
    "\n",
    "Matplotlib draws your graphs on Figures, and each figure can contain one or more Axes (area where you can draw on). You do not usually need to explicitly create an Axes - this is usually done automatically."
   ],
   "cell_type": "markdown",
   "metadata": {}
  },
  {
   "cell_type": "code",
   "execution_count": 2,
   "metadata": {},
   "outputs": [],
   "source": [
    "import matplotlib.pyplot as plt"
   ]
  },
  {
   "source": [
    "One of the things that you will likely to have to do is to create a Figure. You can give a number as an argument to plt.figure() as an ID, which will be useful if you want to draw multiple figures. Otherwise, matplotlib will just create a new Figure."
   ],
   "cell_type": "markdown",
   "metadata": {}
  },
  {
   "cell_type": "code",
   "execution_count": null,
   "metadata": {},
   "outputs": [],
   "source": [
    "fig = plt.figure(1)"
   ]
  },
  {
   "cell_type": "code",
   "execution_count": 3,
   "metadata": {},
   "outputs": [
    {
     "output_type": "display_data",
     "data": {
      "text/plain": "<Figure size 432x288 with 1 Axes>",
      "image/svg+xml": "<?xml version=\"1.0\" encoding=\"utf-8\" standalone=\"no\"?>\n<!DOCTYPE svg PUBLIC \"-//W3C//DTD SVG 1.1//EN\"\n  \"http://www.w3.org/Graphics/SVG/1.1/DTD/svg11.dtd\">\n<!-- Created with matplotlib (https://matplotlib.org/) -->\n<svg height=\"248.518125pt\" version=\"1.1\" viewBox=\"0 0 368.925 248.518125\" width=\"368.925pt\" xmlns=\"http://www.w3.org/2000/svg\" xmlns:xlink=\"http://www.w3.org/1999/xlink\">\n <metadata>\n  <rdf:RDF xmlns:cc=\"http://creativecommons.org/ns#\" xmlns:dc=\"http://purl.org/dc/elements/1.1/\" xmlns:rdf=\"http://www.w3.org/1999/02/22-rdf-syntax-ns#\">\n   <cc:Work>\n    <dc:type rdf:resource=\"http://purl.org/dc/dcmitype/StillImage\"/>\n    <dc:date>2021-01-08T20:28:31.356030</dc:date>\n    <dc:format>image/svg+xml</dc:format>\n    <dc:creator>\n     <cc:Agent>\n      <dc:title>Matplotlib v3.3.3, https://matplotlib.org/</dc:title>\n     </cc:Agent>\n    </dc:creator>\n   </cc:Work>\n  </rdf:RDF>\n </metadata>\n <defs>\n  <style type=\"text/css\">*{stroke-linecap:butt;stroke-linejoin:round;}</style>\n </defs>\n <g id=\"figure_1\">\n  <g id=\"patch_1\">\n   <path d=\"M -0 248.518125 \nL 368.925 248.518125 \nL 368.925 0 \nL -0 0 \nz\n\" style=\"fill:none;\"/>\n  </g>\n  <g id=\"axes_1\">\n   <g id=\"patch_2\">\n    <path d=\"M 26.925 224.64 \nL 361.725 224.64 \nL 361.725 7.2 \nL 26.925 7.2 \nz\n\" style=\"fill:#ffffff;\"/>\n   </g>\n   <g id=\"matplotlib.axis_1\">\n    <g id=\"xtick_1\">\n     <g id=\"line2d_1\">\n      <defs>\n       <path d=\"M 0 0 \nL 0 3.5 \n\" id=\"m26c86eab6d\" style=\"stroke:#000000;stroke-width:0.8;\"/>\n      </defs>\n      <g>\n       <use style=\"stroke:#000000;stroke-width:0.8;\" x=\"42.143182\" xlink:href=\"#m26c86eab6d\" y=\"224.64\"/>\n      </g>\n     </g>\n     <g id=\"text_1\">\n      <!-- 1.0 -->\n      <g transform=\"translate(34.191619 239.238437)scale(0.1 -0.1)\">\n       <defs>\n        <path d=\"M 12.40625 8.296875 \nL 28.515625 8.296875 \nL 28.515625 63.921875 \nL 10.984375 60.40625 \nL 10.984375 69.390625 \nL 28.421875 72.90625 \nL 38.28125 72.90625 \nL 38.28125 8.296875 \nL 54.390625 8.296875 \nL 54.390625 0 \nL 12.40625 0 \nz\n\" id=\"DejaVuSans-49\"/>\n        <path d=\"M 10.6875 12.40625 \nL 21 12.40625 \nL 21 0 \nL 10.6875 0 \nz\n\" id=\"DejaVuSans-46\"/>\n        <path d=\"M 31.78125 66.40625 \nQ 24.171875 66.40625 20.328125 58.90625 \nQ 16.5 51.421875 16.5 36.375 \nQ 16.5 21.390625 20.328125 13.890625 \nQ 24.171875 6.390625 31.78125 6.390625 \nQ 39.453125 6.390625 43.28125 13.890625 \nQ 47.125 21.390625 47.125 36.375 \nQ 47.125 51.421875 43.28125 58.90625 \nQ 39.453125 66.40625 31.78125 66.40625 \nz\nM 31.78125 74.21875 \nQ 44.046875 74.21875 50.515625 64.515625 \nQ 56.984375 54.828125 56.984375 36.375 \nQ 56.984375 17.96875 50.515625 8.265625 \nQ 44.046875 -1.421875 31.78125 -1.421875 \nQ 19.53125 -1.421875 13.0625 8.265625 \nQ 6.59375 17.96875 6.59375 36.375 \nQ 6.59375 54.828125 13.0625 64.515625 \nQ 19.53125 74.21875 31.78125 74.21875 \nz\n\" id=\"DejaVuSans-48\"/>\n       </defs>\n       <use xlink:href=\"#DejaVuSans-49\"/>\n       <use x=\"63.623047\" xlink:href=\"#DejaVuSans-46\"/>\n       <use x=\"95.410156\" xlink:href=\"#DejaVuSans-48\"/>\n      </g>\n     </g>\n    </g>\n    <g id=\"xtick_2\">\n     <g id=\"line2d_2\">\n      <g>\n       <use style=\"stroke:#000000;stroke-width:0.8;\" x=\"80.188636\" xlink:href=\"#m26c86eab6d\" y=\"224.64\"/>\n      </g>\n     </g>\n     <g id=\"text_2\">\n      <!-- 1.5 -->\n      <g transform=\"translate(72.237074 239.238437)scale(0.1 -0.1)\">\n       <defs>\n        <path d=\"M 10.796875 72.90625 \nL 49.515625 72.90625 \nL 49.515625 64.59375 \nL 19.828125 64.59375 \nL 19.828125 46.734375 \nQ 21.96875 47.46875 24.109375 47.828125 \nQ 26.265625 48.1875 28.421875 48.1875 \nQ 40.625 48.1875 47.75 41.5 \nQ 54.890625 34.8125 54.890625 23.390625 \nQ 54.890625 11.625 47.5625 5.09375 \nQ 40.234375 -1.421875 26.90625 -1.421875 \nQ 22.3125 -1.421875 17.546875 -0.640625 \nQ 12.796875 0.140625 7.71875 1.703125 \nL 7.71875 11.625 \nQ 12.109375 9.234375 16.796875 8.0625 \nQ 21.484375 6.890625 26.703125 6.890625 \nQ 35.15625 6.890625 40.078125 11.328125 \nQ 45.015625 15.765625 45.015625 23.390625 \nQ 45.015625 31 40.078125 35.4375 \nQ 35.15625 39.890625 26.703125 39.890625 \nQ 22.75 39.890625 18.8125 39.015625 \nQ 14.890625 38.140625 10.796875 36.28125 \nz\n\" id=\"DejaVuSans-53\"/>\n       </defs>\n       <use xlink:href=\"#DejaVuSans-49\"/>\n       <use x=\"63.623047\" xlink:href=\"#DejaVuSans-46\"/>\n       <use x=\"95.410156\" xlink:href=\"#DejaVuSans-53\"/>\n      </g>\n     </g>\n    </g>\n    <g id=\"xtick_3\">\n     <g id=\"line2d_3\">\n      <g>\n       <use style=\"stroke:#000000;stroke-width:0.8;\" x=\"118.234091\" xlink:href=\"#m26c86eab6d\" y=\"224.64\"/>\n      </g>\n     </g>\n     <g id=\"text_3\">\n      <!-- 2.0 -->\n      <g transform=\"translate(110.282528 239.238437)scale(0.1 -0.1)\">\n       <defs>\n        <path d=\"M 19.1875 8.296875 \nL 53.609375 8.296875 \nL 53.609375 0 \nL 7.328125 0 \nL 7.328125 8.296875 \nQ 12.9375 14.109375 22.625 23.890625 \nQ 32.328125 33.6875 34.8125 36.53125 \nQ 39.546875 41.84375 41.421875 45.53125 \nQ 43.3125 49.21875 43.3125 52.78125 \nQ 43.3125 58.59375 39.234375 62.25 \nQ 35.15625 65.921875 28.609375 65.921875 \nQ 23.96875 65.921875 18.8125 64.3125 \nQ 13.671875 62.703125 7.8125 59.421875 \nL 7.8125 69.390625 \nQ 13.765625 71.78125 18.9375 73 \nQ 24.125 74.21875 28.421875 74.21875 \nQ 39.75 74.21875 46.484375 68.546875 \nQ 53.21875 62.890625 53.21875 53.421875 \nQ 53.21875 48.921875 51.53125 44.890625 \nQ 49.859375 40.875 45.40625 35.40625 \nQ 44.1875 33.984375 37.640625 27.21875 \nQ 31.109375 20.453125 19.1875 8.296875 \nz\n\" id=\"DejaVuSans-50\"/>\n       </defs>\n       <use xlink:href=\"#DejaVuSans-50\"/>\n       <use x=\"63.623047\" xlink:href=\"#DejaVuSans-46\"/>\n       <use x=\"95.410156\" xlink:href=\"#DejaVuSans-48\"/>\n      </g>\n     </g>\n    </g>\n    <g id=\"xtick_4\">\n     <g id=\"line2d_4\">\n      <g>\n       <use style=\"stroke:#000000;stroke-width:0.8;\" x=\"156.279545\" xlink:href=\"#m26c86eab6d\" y=\"224.64\"/>\n      </g>\n     </g>\n     <g id=\"text_4\">\n      <!-- 2.5 -->\n      <g transform=\"translate(148.327983 239.238437)scale(0.1 -0.1)\">\n       <use xlink:href=\"#DejaVuSans-50\"/>\n       <use x=\"63.623047\" xlink:href=\"#DejaVuSans-46\"/>\n       <use x=\"95.410156\" xlink:href=\"#DejaVuSans-53\"/>\n      </g>\n     </g>\n    </g>\n    <g id=\"xtick_5\">\n     <g id=\"line2d_5\">\n      <g>\n       <use style=\"stroke:#000000;stroke-width:0.8;\" x=\"194.325\" xlink:href=\"#m26c86eab6d\" y=\"224.64\"/>\n      </g>\n     </g>\n     <g id=\"text_5\">\n      <!-- 3.0 -->\n      <g transform=\"translate(186.373438 239.238437)scale(0.1 -0.1)\">\n       <defs>\n        <path d=\"M 40.578125 39.3125 \nQ 47.65625 37.796875 51.625 33 \nQ 55.609375 28.21875 55.609375 21.1875 \nQ 55.609375 10.40625 48.1875 4.484375 \nQ 40.765625 -1.421875 27.09375 -1.421875 \nQ 22.515625 -1.421875 17.65625 -0.515625 \nQ 12.796875 0.390625 7.625 2.203125 \nL 7.625 11.71875 \nQ 11.71875 9.328125 16.59375 8.109375 \nQ 21.484375 6.890625 26.8125 6.890625 \nQ 36.078125 6.890625 40.9375 10.546875 \nQ 45.796875 14.203125 45.796875 21.1875 \nQ 45.796875 27.640625 41.28125 31.265625 \nQ 36.765625 34.90625 28.71875 34.90625 \nL 20.21875 34.90625 \nL 20.21875 43.015625 \nL 29.109375 43.015625 \nQ 36.375 43.015625 40.234375 45.921875 \nQ 44.09375 48.828125 44.09375 54.296875 \nQ 44.09375 59.90625 40.109375 62.90625 \nQ 36.140625 65.921875 28.71875 65.921875 \nQ 24.65625 65.921875 20.015625 65.03125 \nQ 15.375 64.15625 9.8125 62.3125 \nL 9.8125 71.09375 \nQ 15.4375 72.65625 20.34375 73.4375 \nQ 25.25 74.21875 29.59375 74.21875 \nQ 40.828125 74.21875 47.359375 69.109375 \nQ 53.90625 64.015625 53.90625 55.328125 \nQ 53.90625 49.265625 50.4375 45.09375 \nQ 46.96875 40.921875 40.578125 39.3125 \nz\n\" id=\"DejaVuSans-51\"/>\n       </defs>\n       <use xlink:href=\"#DejaVuSans-51\"/>\n       <use x=\"63.623047\" xlink:href=\"#DejaVuSans-46\"/>\n       <use x=\"95.410156\" xlink:href=\"#DejaVuSans-48\"/>\n      </g>\n     </g>\n    </g>\n    <g id=\"xtick_6\">\n     <g id=\"line2d_6\">\n      <g>\n       <use style=\"stroke:#000000;stroke-width:0.8;\" x=\"232.370455\" xlink:href=\"#m26c86eab6d\" y=\"224.64\"/>\n      </g>\n     </g>\n     <g id=\"text_6\">\n      <!-- 3.5 -->\n      <g transform=\"translate(224.418892 239.238437)scale(0.1 -0.1)\">\n       <use xlink:href=\"#DejaVuSans-51\"/>\n       <use x=\"63.623047\" xlink:href=\"#DejaVuSans-46\"/>\n       <use x=\"95.410156\" xlink:href=\"#DejaVuSans-53\"/>\n      </g>\n     </g>\n    </g>\n    <g id=\"xtick_7\">\n     <g id=\"line2d_7\">\n      <g>\n       <use style=\"stroke:#000000;stroke-width:0.8;\" x=\"270.415909\" xlink:href=\"#m26c86eab6d\" y=\"224.64\"/>\n      </g>\n     </g>\n     <g id=\"text_7\">\n      <!-- 4.0 -->\n      <g transform=\"translate(262.464347 239.238437)scale(0.1 -0.1)\">\n       <defs>\n        <path d=\"M 37.796875 64.3125 \nL 12.890625 25.390625 \nL 37.796875 25.390625 \nz\nM 35.203125 72.90625 \nL 47.609375 72.90625 \nL 47.609375 25.390625 \nL 58.015625 25.390625 \nL 58.015625 17.1875 \nL 47.609375 17.1875 \nL 47.609375 0 \nL 37.796875 0 \nL 37.796875 17.1875 \nL 4.890625 17.1875 \nL 4.890625 26.703125 \nz\n\" id=\"DejaVuSans-52\"/>\n       </defs>\n       <use xlink:href=\"#DejaVuSans-52\"/>\n       <use x=\"63.623047\" xlink:href=\"#DejaVuSans-46\"/>\n       <use x=\"95.410156\" xlink:href=\"#DejaVuSans-48\"/>\n      </g>\n     </g>\n    </g>\n    <g id=\"xtick_8\">\n     <g id=\"line2d_8\">\n      <g>\n       <use style=\"stroke:#000000;stroke-width:0.8;\" x=\"308.461364\" xlink:href=\"#m26c86eab6d\" y=\"224.64\"/>\n      </g>\n     </g>\n     <g id=\"text_8\">\n      <!-- 4.5 -->\n      <g transform=\"translate(300.509801 239.238437)scale(0.1 -0.1)\">\n       <use xlink:href=\"#DejaVuSans-52\"/>\n       <use x=\"63.623047\" xlink:href=\"#DejaVuSans-46\"/>\n       <use x=\"95.410156\" xlink:href=\"#DejaVuSans-53\"/>\n      </g>\n     </g>\n    </g>\n    <g id=\"xtick_9\">\n     <g id=\"line2d_9\">\n      <g>\n       <use style=\"stroke:#000000;stroke-width:0.8;\" x=\"346.506818\" xlink:href=\"#m26c86eab6d\" y=\"224.64\"/>\n      </g>\n     </g>\n     <g id=\"text_9\">\n      <!-- 5.0 -->\n      <g transform=\"translate(338.555256 239.238437)scale(0.1 -0.1)\">\n       <use xlink:href=\"#DejaVuSans-53\"/>\n       <use x=\"63.623047\" xlink:href=\"#DejaVuSans-46\"/>\n       <use x=\"95.410156\" xlink:href=\"#DejaVuSans-48\"/>\n      </g>\n     </g>\n    </g>\n   </g>\n   <g id=\"matplotlib.axis_2\">\n    <g id=\"ytick_1\">\n     <g id=\"line2d_10\">\n      <defs>\n       <path d=\"M 0 0 \nL -3.5 0 \n\" id=\"m3ec5bf9408\" style=\"stroke:#000000;stroke-width:0.8;\"/>\n      </defs>\n      <g>\n       <use style=\"stroke:#000000;stroke-width:0.8;\" x=\"26.925\" xlink:href=\"#m3ec5bf9408\" y=\"214.756364\"/>\n      </g>\n     </g>\n     <g id=\"text_10\">\n      <!-- 2 -->\n      <g transform=\"translate(13.5625 218.555582)scale(0.1 -0.1)\">\n       <use xlink:href=\"#DejaVuSans-50\"/>\n      </g>\n     </g>\n    </g>\n    <g id=\"ytick_2\">\n     <g id=\"line2d_11\">\n      <g>\n       <use style=\"stroke:#000000;stroke-width:0.8;\" x=\"26.925\" xlink:href=\"#m3ec5bf9408\" y=\"190.047273\"/>\n      </g>\n     </g>\n     <g id=\"text_11\">\n      <!-- 3 -->\n      <g transform=\"translate(13.5625 193.846491)scale(0.1 -0.1)\">\n       <use xlink:href=\"#DejaVuSans-51\"/>\n      </g>\n     </g>\n    </g>\n    <g id=\"ytick_3\">\n     <g id=\"line2d_12\">\n      <g>\n       <use style=\"stroke:#000000;stroke-width:0.8;\" x=\"26.925\" xlink:href=\"#m3ec5bf9408\" y=\"165.338182\"/>\n      </g>\n     </g>\n     <g id=\"text_12\">\n      <!-- 4 -->\n      <g transform=\"translate(13.5625 169.137401)scale(0.1 -0.1)\">\n       <use xlink:href=\"#DejaVuSans-52\"/>\n      </g>\n     </g>\n    </g>\n    <g id=\"ytick_4\">\n     <g id=\"line2d_13\">\n      <g>\n       <use style=\"stroke:#000000;stroke-width:0.8;\" x=\"26.925\" xlink:href=\"#m3ec5bf9408\" y=\"140.629091\"/>\n      </g>\n     </g>\n     <g id=\"text_13\">\n      <!-- 5 -->\n      <g transform=\"translate(13.5625 144.42831)scale(0.1 -0.1)\">\n       <use xlink:href=\"#DejaVuSans-53\"/>\n      </g>\n     </g>\n    </g>\n    <g id=\"ytick_5\">\n     <g id=\"line2d_14\">\n      <g>\n       <use style=\"stroke:#000000;stroke-width:0.8;\" x=\"26.925\" xlink:href=\"#m3ec5bf9408\" y=\"115.92\"/>\n      </g>\n     </g>\n     <g id=\"text_14\">\n      <!-- 6 -->\n      <g transform=\"translate(13.5625 119.719219)scale(0.1 -0.1)\">\n       <defs>\n        <path d=\"M 33.015625 40.375 \nQ 26.375 40.375 22.484375 35.828125 \nQ 18.609375 31.296875 18.609375 23.390625 \nQ 18.609375 15.53125 22.484375 10.953125 \nQ 26.375 6.390625 33.015625 6.390625 \nQ 39.65625 6.390625 43.53125 10.953125 \nQ 47.40625 15.53125 47.40625 23.390625 \nQ 47.40625 31.296875 43.53125 35.828125 \nQ 39.65625 40.375 33.015625 40.375 \nz\nM 52.59375 71.296875 \nL 52.59375 62.3125 \nQ 48.875 64.0625 45.09375 64.984375 \nQ 41.3125 65.921875 37.59375 65.921875 \nQ 27.828125 65.921875 22.671875 59.328125 \nQ 17.53125 52.734375 16.796875 39.40625 \nQ 19.671875 43.65625 24.015625 45.921875 \nQ 28.375 48.1875 33.59375 48.1875 \nQ 44.578125 48.1875 50.953125 41.515625 \nQ 57.328125 34.859375 57.328125 23.390625 \nQ 57.328125 12.15625 50.6875 5.359375 \nQ 44.046875 -1.421875 33.015625 -1.421875 \nQ 20.359375 -1.421875 13.671875 8.265625 \nQ 6.984375 17.96875 6.984375 36.375 \nQ 6.984375 53.65625 15.1875 63.9375 \nQ 23.390625 74.21875 37.203125 74.21875 \nQ 40.921875 74.21875 44.703125 73.484375 \nQ 48.484375 72.75 52.59375 71.296875 \nz\n\" id=\"DejaVuSans-54\"/>\n       </defs>\n       <use xlink:href=\"#DejaVuSans-54\"/>\n      </g>\n     </g>\n    </g>\n    <g id=\"ytick_6\">\n     <g id=\"line2d_15\">\n      <g>\n       <use style=\"stroke:#000000;stroke-width:0.8;\" x=\"26.925\" xlink:href=\"#m3ec5bf9408\" y=\"91.210909\"/>\n      </g>\n     </g>\n     <g id=\"text_15\">\n      <!-- 7 -->\n      <g transform=\"translate(13.5625 95.010128)scale(0.1 -0.1)\">\n       <defs>\n        <path d=\"M 8.203125 72.90625 \nL 55.078125 72.90625 \nL 55.078125 68.703125 \nL 28.609375 0 \nL 18.3125 0 \nL 43.21875 64.59375 \nL 8.203125 64.59375 \nz\n\" id=\"DejaVuSans-55\"/>\n       </defs>\n       <use xlink:href=\"#DejaVuSans-55\"/>\n      </g>\n     </g>\n    </g>\n    <g id=\"ytick_7\">\n     <g id=\"line2d_16\">\n      <g>\n       <use style=\"stroke:#000000;stroke-width:0.8;\" x=\"26.925\" xlink:href=\"#m3ec5bf9408\" y=\"66.501818\"/>\n      </g>\n     </g>\n     <g id=\"text_16\">\n      <!-- 8 -->\n      <g transform=\"translate(13.5625 70.301037)scale(0.1 -0.1)\">\n       <defs>\n        <path d=\"M 31.78125 34.625 \nQ 24.75 34.625 20.71875 30.859375 \nQ 16.703125 27.09375 16.703125 20.515625 \nQ 16.703125 13.921875 20.71875 10.15625 \nQ 24.75 6.390625 31.78125 6.390625 \nQ 38.8125 6.390625 42.859375 10.171875 \nQ 46.921875 13.96875 46.921875 20.515625 \nQ 46.921875 27.09375 42.890625 30.859375 \nQ 38.875 34.625 31.78125 34.625 \nz\nM 21.921875 38.8125 \nQ 15.578125 40.375 12.03125 44.71875 \nQ 8.5 49.078125 8.5 55.328125 \nQ 8.5 64.0625 14.71875 69.140625 \nQ 20.953125 74.21875 31.78125 74.21875 \nQ 42.671875 74.21875 48.875 69.140625 \nQ 55.078125 64.0625 55.078125 55.328125 \nQ 55.078125 49.078125 51.53125 44.71875 \nQ 48 40.375 41.703125 38.8125 \nQ 48.828125 37.15625 52.796875 32.3125 \nQ 56.78125 27.484375 56.78125 20.515625 \nQ 56.78125 9.90625 50.3125 4.234375 \nQ 43.84375 -1.421875 31.78125 -1.421875 \nQ 19.734375 -1.421875 13.25 4.234375 \nQ 6.78125 9.90625 6.78125 20.515625 \nQ 6.78125 27.484375 10.78125 32.3125 \nQ 14.796875 37.15625 21.921875 38.8125 \nz\nM 18.3125 54.390625 \nQ 18.3125 48.734375 21.84375 45.5625 \nQ 25.390625 42.390625 31.78125 42.390625 \nQ 38.140625 42.390625 41.71875 45.5625 \nQ 45.3125 48.734375 45.3125 54.390625 \nQ 45.3125 60.0625 41.71875 63.234375 \nQ 38.140625 66.40625 31.78125 66.40625 \nQ 25.390625 66.40625 21.84375 63.234375 \nQ 18.3125 60.0625 18.3125 54.390625 \nz\n\" id=\"DejaVuSans-56\"/>\n       </defs>\n       <use xlink:href=\"#DejaVuSans-56\"/>\n      </g>\n     </g>\n    </g>\n    <g id=\"ytick_8\">\n     <g id=\"line2d_17\">\n      <g>\n       <use style=\"stroke:#000000;stroke-width:0.8;\" x=\"26.925\" xlink:href=\"#m3ec5bf9408\" y=\"41.792727\"/>\n      </g>\n     </g>\n     <g id=\"text_17\">\n      <!-- 9 -->\n      <g transform=\"translate(13.5625 45.591946)scale(0.1 -0.1)\">\n       <defs>\n        <path d=\"M 10.984375 1.515625 \nL 10.984375 10.5 \nQ 14.703125 8.734375 18.5 7.8125 \nQ 22.3125 6.890625 25.984375 6.890625 \nQ 35.75 6.890625 40.890625 13.453125 \nQ 46.046875 20.015625 46.78125 33.40625 \nQ 43.953125 29.203125 39.59375 26.953125 \nQ 35.25 24.703125 29.984375 24.703125 \nQ 19.046875 24.703125 12.671875 31.3125 \nQ 6.296875 37.9375 6.296875 49.421875 \nQ 6.296875 60.640625 12.9375 67.421875 \nQ 19.578125 74.21875 30.609375 74.21875 \nQ 43.265625 74.21875 49.921875 64.515625 \nQ 56.59375 54.828125 56.59375 36.375 \nQ 56.59375 19.140625 48.40625 8.859375 \nQ 40.234375 -1.421875 26.421875 -1.421875 \nQ 22.703125 -1.421875 18.890625 -0.6875 \nQ 15.09375 0.046875 10.984375 1.515625 \nz\nM 30.609375 32.421875 \nQ 37.25 32.421875 41.125 36.953125 \nQ 45.015625 41.5 45.015625 49.421875 \nQ 45.015625 57.28125 41.125 61.84375 \nQ 37.25 66.40625 30.609375 66.40625 \nQ 23.96875 66.40625 20.09375 61.84375 \nQ 16.21875 57.28125 16.21875 49.421875 \nQ 16.21875 41.5 20.09375 36.953125 \nQ 23.96875 32.421875 30.609375 32.421875 \nz\n\" id=\"DejaVuSans-57\"/>\n       </defs>\n       <use xlink:href=\"#DejaVuSans-57\"/>\n      </g>\n     </g>\n    </g>\n    <g id=\"ytick_9\">\n     <g id=\"line2d_18\">\n      <g>\n       <use style=\"stroke:#000000;stroke-width:0.8;\" x=\"26.925\" xlink:href=\"#m3ec5bf9408\" y=\"17.083636\"/>\n      </g>\n     </g>\n     <g id=\"text_18\">\n      <!-- 10 -->\n      <g transform=\"translate(7.2 20.882855)scale(0.1 -0.1)\">\n       <use xlink:href=\"#DejaVuSans-49\"/>\n       <use x=\"63.623047\" xlink:href=\"#DejaVuSans-48\"/>\n      </g>\n     </g>\n    </g>\n   </g>\n   <g id=\"line2d_19\">\n    <path clip-path=\"url(#p2e7edfb597)\" d=\"M 42.143182 214.756364 \nL 118.234091 165.338182 \nL 194.325 115.92 \nL 270.415909 66.501818 \nL 346.506818 17.083636 \n\" style=\"fill:none;stroke:#1f77b4;stroke-linecap:square;stroke-width:1.5;\"/>\n   </g>\n   <g id=\"patch_3\">\n    <path d=\"M 26.925 224.64 \nL 26.925 7.2 \n\" style=\"fill:none;stroke:#000000;stroke-linecap:square;stroke-linejoin:miter;stroke-width:0.8;\"/>\n   </g>\n   <g id=\"patch_4\">\n    <path d=\"M 361.725 224.64 \nL 361.725 7.2 \n\" style=\"fill:none;stroke:#000000;stroke-linecap:square;stroke-linejoin:miter;stroke-width:0.8;\"/>\n   </g>\n   <g id=\"patch_5\">\n    <path d=\"M 26.925 224.64 \nL 361.725 224.64 \n\" style=\"fill:none;stroke:#000000;stroke-linecap:square;stroke-linejoin:miter;stroke-width:0.8;\"/>\n   </g>\n   <g id=\"patch_6\">\n    <path d=\"M 26.925 7.2 \nL 361.725 7.2 \n\" style=\"fill:none;stroke:#000000;stroke-linecap:square;stroke-linejoin:miter;stroke-width:0.8;\"/>\n   </g>\n  </g>\n </g>\n <defs>\n  <clipPath id=\"p2e7edfb597\">\n   <rect height=\"217.44\" width=\"334.8\" x=\"26.925\" y=\"7.2\"/>\n  </clipPath>\n </defs>\n</svg>\n",
      "image/png": "[encoded data removed]"
     },
     "metadata": {
      "needs_background": "light"
     }
    }
   ],
   "source": [
    "x = np.array([1, 2, 3, 4, 5])\n",
    "y = x * 2\n",
    "plt.plot(x, y)\n",
    "plt.show()"
   ]
  },
  {
   "cell_type": "code",
   "execution_count": null,
   "metadata": {},
   "outputs": [],
   "source": []
  }
 ]
}