{
 "metadata": {
  "language_info": {
   "codemirror_mode": {
    "name": "ipython",
    "version": 3
   },
   "file_extension": ".py",
   "mimetype": "text/x-python",
   "name": "python",
   "nbconvert_exporter": "python",
   "pygments_lexer": "ipython3",
   "version": "3.8.5-final"
  },
  "orig_nbformat": 2,
  "kernelspec": {
   "name": "python3",
   "display_name": "Python 3.8.5 64-bit ('env-deep')",
   "metadata": {
    "interpreter": {
     "hash": "0bccfaaf16db707055675f75c646004221b9c047ed69dc7345335589c3460646"
    }
   }
  }
 },
 "nbformat": 4,
 "nbformat_minor": 2,
 "cells": [
  {
   "source": [
    "# Pandas\n",
    "\n",
    "Pandas is a Python library for data manipulation and analysis. Pandas offers powerful and flexible data structures that make it easy to manipulate and analyse data. It is used to clean, transform, and analyse data.\n",
    "\n",
    "Pandas is built on top of NumPy."
   ],
   "cell_type": "markdown",
   "metadata": {}
  },
  {
   "cell_type": "code",
   "execution_count": 1,
   "metadata": {},
   "outputs": [],
   "source": [
    "import numpy as np\n",
    "import pandas as pd"
   ]
  },
  {
   "source": [
    "## Components of Pandas\n",
    "\n",
    "The two main components of pandas are DataFrame and Series.\n",
    "\n",
    "* A DataFrame represents a two-dimensional table. It consists of a collection of Series.\n",
    "* A Series represents one-dimensional column (actually, a 1D NumPy array).\n",
    "\n",
    "Each row in the table has an associated Index, and the columns are connedted via the Index. The columns are identified by the column names."
   ],
   "cell_type": "markdown",
   "metadata": {}
  },
  {
   "source": [
    "## Series\n",
    "\n",
    "Series can be created with the constructor ```pd.Series(data, index, dtype)```.\n",
    "* data can be any object e.g. np.array(), list, dict, etc.\n",
    "* index values must have the same length as data (defaults to np.arange(data))\n",
    "* dtype represents the data type"
   ],
   "cell_type": "markdown",
   "metadata": {}
  },
  {
   "cell_type": "code",
   "execution_count": 2,
   "metadata": {},
   "outputs": [
    {
     "output_type": "execute_result",
     "data": {
      "text/plain": [
       "0    a\n",
       "1    b\n",
       "2    c\n",
       "3    d\n",
       "dtype: object"
      ]
     },
     "metadata": {},
     "execution_count": 2
    }
   ],
   "source": [
    "pd.Series(np.array([\"a\", \"b\", \"c\", \"d\"]))"
   ]
  },
  {
   "cell_type": "code",
   "execution_count": 3,
   "metadata": {},
   "outputs": [
    {
     "output_type": "execute_result",
     "data": {
      "text/plain": [
       "10    a\n",
       "11    b\n",
       "12    c\n",
       "13    d\n",
       "dtype: object"
      ]
     },
     "metadata": {},
     "execution_count": 3
    }
   ],
   "source": [
    "pd.Series(np.array([\"a\", \"b\", \"c\", \"d\"]), index=[10, 11, 12, 13])"
   ]
  },
  {
   "cell_type": "code",
   "execution_count": 4,
   "metadata": {},
   "outputs": [
    {
     "output_type": "execute_result",
     "data": {
      "text/plain": [
       "a    0.0\n",
       "b    1.0\n",
       "c    2.0\n",
       "dtype: float64"
      ]
     },
     "metadata": {},
     "execution_count": 4
    }
   ],
   "source": [
    "data = {\n",
    "    \"a\" : 0., \n",
    "    \"b\" : 1., \n",
    "    \"c\" : 2.\n",
    "}\n",
    "\n",
    "pd.Series(data)"
   ]
  },
  {
   "cell_type": "code",
   "execution_count": 5,
   "metadata": {},
   "outputs": [
    {
     "output_type": "execute_result",
     "data": {
      "text/plain": [
       "b    1.0\n",
       "c    2.0\n",
       "d    NaN\n",
       "a    0.0\n",
       "dtype: float64"
      ]
     },
     "metadata": {},
     "execution_count": 5
    }
   ],
   "source": [
    "pd.Series(data, index=[\"b\", \"c\", \"d\", \"a\"])"
   ]
  },
  {
   "source": [
    "### Accessing elements in a Series\n",
    "\n",
    "Elements can be accessed by their row index, just like in a NumPy array. Slicing also works."
   ],
   "cell_type": "markdown",
   "metadata": {}
  },
  {
   "cell_type": "code",
   "execution_count": 6,
   "metadata": {},
   "outputs": [
    {
     "output_type": "execute_result",
     "data": {
      "text/plain": [
       "0    a\n",
       "1    b\n",
       "2    c\n",
       "3    d\n",
       "4    e\n",
       "dtype: object"
      ]
     },
     "metadata": {},
     "execution_count": 6
    }
   ],
   "source": [
    "s = pd.Series(np.array([\"a\", \"b\", \"c\", \"d\", \"e\"]))\n",
    "s"
   ]
  },
  {
   "cell_type": "code",
   "execution_count": 7,
   "metadata": {},
   "outputs": [
    {
     "output_type": "execute_result",
     "data": {
      "text/plain": [
       "'a'"
      ]
     },
     "metadata": {},
     "execution_count": 7
    }
   ],
   "source": [
    "s[0]"
   ]
  },
  {
   "source": [
    "s[:3]"
   ],
   "cell_type": "code",
   "metadata": {},
   "execution_count": 8,
   "outputs": [
    {
     "output_type": "execute_result",
     "data": {
      "text/plain": [
       "0    a\n",
       "1    b\n",
       "2    c\n",
       "dtype: object"
      ]
     },
     "metadata": {},
     "execution_count": 8
    }
   ]
  },
  {
   "source": [
    "They can also be accessed by their index labels."
   ],
   "cell_type": "markdown",
   "metadata": {}
  },
  {
   "source": [
    "s = pd.Series([1, 2, 3, 4, 5], index=[\"a\", \"b\", \"c\", \"d\", \"e\"])\n",
    "s"
   ],
   "cell_type": "code",
   "metadata": {},
   "execution_count": 9,
   "outputs": [
    {
     "output_type": "execute_result",
     "data": {
      "text/plain": [
       "a    1\n",
       "b    2\n",
       "c    3\n",
       "d    4\n",
       "e    5\n",
       "dtype: int64"
      ]
     },
     "metadata": {},
     "execution_count": 9
    }
   ]
  },
  {
   "cell_type": "code",
   "execution_count": 10,
   "metadata": {},
   "outputs": [
    {
     "output_type": "execute_result",
     "data": {
      "text/plain": [
       "1"
      ]
     },
     "metadata": {},
     "execution_count": 10
    }
   ],
   "source": [
    "s[\"a\"]"
   ]
  },
  {
   "cell_type": "code",
   "execution_count": 11,
   "metadata": {},
   "outputs": [
    {
     "output_type": "execute_result",
     "data": {
      "text/plain": [
       "a    1\n",
       "d    4\n",
       "c    3\n",
       "dtype: int64"
      ]
     },
     "metadata": {},
     "execution_count": 11
    }
   ],
   "source": [
    "s[[\"a\", \"d\", \"c\"]]"
   ]
  },
  {
   "source": [
    "## Creating DataFrames\n",
    "\n",
    "### Method 1: From a list or numpy array"
   ],
   "cell_type": "markdown",
   "metadata": {}
  },
  {
   "source": [
    "# Creating using Python lists\n",
    "arr = [[\"UK\", \"London\"], \n",
    "       [\"France\", \"Paris\"], \n",
    "       [\"Italy\", \"Rome\"]]\n",
    "pd.DataFrame(arr, columns=[\"country\", \"capital\"])"
   ],
   "cell_type": "code",
   "metadata": {},
   "execution_count": 12,
   "outputs": [
    {
     "output_type": "execute_result",
     "data": {
      "text/plain": [
       "  country capital\n",
       "0      UK  London\n",
       "1  France   Paris\n",
       "2   Italy    Rome"
      ],
      "text/html": "<div>\n<style scoped>\n    .dataframe tbody tr th:only-of-type {\n        vertical-align: middle;\n    }\n\n    .dataframe tbody tr th {\n        vertical-align: top;\n    }\n\n    .dataframe thead th {\n        text-align: right;\n    }\n</style>\n<table border=\"1\" class=\"dataframe\">\n  <thead>\n    <tr style=\"text-align: right;\">\n      <th></th>\n      <th>country</th>\n      <th>capital</th>\n    </tr>\n  </thead>\n  <tbody>\n    <tr>\n      <th>0</th>\n      <td>UK</td>\n      <td>London</td>\n    </tr>\n    <tr>\n      <th>1</th>\n      <td>France</td>\n      <td>Paris</td>\n    </tr>\n    <tr>\n      <th>2</th>\n      <td>Italy</td>\n      <td>Rome</td>\n    </tr>\n  </tbody>\n</table>\n</div>"
     },
     "metadata": {},
     "execution_count": 12
    }
   ]
  },
  {
   "cell_type": "code",
   "execution_count": 13,
   "metadata": {},
   "outputs": [
    {
     "output_type": "execute_result",
     "data": {
      "text/plain": [
       "  country capital\n",
       "0      UK  London\n",
       "1  France   Paris\n",
       "2   Italy    Rome"
      ],
      "text/html": "<div>\n<style scoped>\n    .dataframe tbody tr th:only-of-type {\n        vertical-align: middle;\n    }\n\n    .dataframe tbody tr th {\n        vertical-align: top;\n    }\n\n    .dataframe thead th {\n        text-align: right;\n    }\n</style>\n<table border=\"1\" class=\"dataframe\">\n  <thead>\n    <tr style=\"text-align: right;\">\n      <th></th>\n      <th>country</th>\n      <th>capital</th>\n    </tr>\n  </thead>\n  <tbody>\n    <tr>\n      <th>0</th>\n      <td>UK</td>\n      <td>London</td>\n    </tr>\n    <tr>\n      <th>1</th>\n      <td>France</td>\n      <td>Paris</td>\n    </tr>\n    <tr>\n      <th>2</th>\n      <td>Italy</td>\n      <td>Rome</td>\n    </tr>\n  </tbody>\n</table>\n</div>"
     },
     "metadata": {},
     "execution_count": 13
    }
   ],
   "source": [
    "# Creating using numpy arrays\n",
    "arr = np.array([[\"UK\", \"London\"], \n",
    "                [\"France\", \"Paris\"], \n",
    "                [\"Italy\", \"Rome\"]])\n",
    "column_names = np.array([\"country\", \"capital\"])\n",
    "pd.DataFrame(arr, columns=column_names)"
   ]
  },
  {
   "cell_type": "code",
   "execution_count": 14,
   "metadata": {},
   "outputs": [
    {
     "output_type": "execute_result",
     "data": {
      "text/plain": [
       "    country capital\n",
       "+44      UK  London\n",
       "+33  France   Paris\n",
       "+39   Italy    Rome"
      ],
      "text/html": "<div>\n<style scoped>\n    .dataframe tbody tr th:only-of-type {\n        vertical-align: middle;\n    }\n\n    .dataframe tbody tr th {\n        vertical-align: top;\n    }\n\n    .dataframe thead th {\n        text-align: right;\n    }\n</style>\n<table border=\"1\" class=\"dataframe\">\n  <thead>\n    <tr style=\"text-align: right;\">\n      <th></th>\n      <th>country</th>\n      <th>capital</th>\n    </tr>\n  </thead>\n  <tbody>\n    <tr>\n      <th>+44</th>\n      <td>UK</td>\n      <td>London</td>\n    </tr>\n    <tr>\n      <th>+33</th>\n      <td>France</td>\n      <td>Paris</td>\n    </tr>\n    <tr>\n      <th>+39</th>\n      <td>Italy</td>\n      <td>Rome</td>\n    </tr>\n  </tbody>\n</table>\n</div>"
     },
     "metadata": {},
     "execution_count": 14
    }
   ],
   "source": [
    "# You can provide a custom index (axis labels)\n",
    "prefixes = [\"+44\", \"+33\", \"+39\"]\n",
    "pd.DataFrame(arr, columns=column_names, index=prefixes)"
   ]
  },
  {
   "source": [
    "### Method 2: From a dictionary"
   ],
   "cell_type": "markdown",
   "metadata": {}
  },
  {
   "source": [
    "data_dict = {\n",
    "    \"country\": [\"UK\", \"France\", \"Italy\"], \n",
    "    \"capital\": [\"London\", \"Paris\", \"Rome\"]\n",
    "}\n",
    "pd.DataFrame(data_dict)"
   ],
   "cell_type": "code",
   "metadata": {},
   "execution_count": 15,
   "outputs": [
    {
     "output_type": "execute_result",
     "data": {
      "text/plain": [
       "  country capital\n",
       "0      UK  London\n",
       "1  France   Paris\n",
       "2   Italy    Rome"
      ],
      "text/html": "<div>\n<style scoped>\n    .dataframe tbody tr th:only-of-type {\n        vertical-align: middle;\n    }\n\n    .dataframe tbody tr th {\n        vertical-align: top;\n    }\n\n    .dataframe thead th {\n        text-align: right;\n    }\n</style>\n<table border=\"1\" class=\"dataframe\">\n  <thead>\n    <tr style=\"text-align: right;\">\n      <th></th>\n      <th>country</th>\n      <th>capital</th>\n    </tr>\n  </thead>\n  <tbody>\n    <tr>\n      <th>0</th>\n      <td>UK</td>\n      <td>London</td>\n    </tr>\n    <tr>\n      <th>1</th>\n      <td>France</td>\n      <td>Paris</td>\n    </tr>\n    <tr>\n      <th>2</th>\n      <td>Italy</td>\n      <td>Rome</td>\n    </tr>\n  </tbody>\n</table>\n</div>"
     },
     "metadata": {},
     "execution_count": 15
    }
   ]
  },
  {
   "source": [
    "### Method 3: From a dictionary of series\n",
    "\n"
   ],
   "cell_type": "markdown",
   "metadata": {}
  },
  {
   "source": [
    "country_series = pd.Series(np.array([\"UK\", \"France\", \"Italy\"]))\n",
    "capital_series = pd.Series(np.array([\"London\", \"Paris\", \"Rome\"]))\n",
    "data_dict = {\n",
    "    \"country\": country_series, \n",
    "    \"capital\": capital_series\n",
    "}\n",
    "pd.DataFrame(data_dict)"
   ],
   "cell_type": "code",
   "metadata": {},
   "execution_count": 16,
   "outputs": [
    {
     "output_type": "execute_result",
     "data": {
      "text/plain": [
       "  country capital\n",
       "0      UK  London\n",
       "1  France   Paris\n",
       "2   Italy    Rome"
      ],
      "text/html": "<div>\n<style scoped>\n    .dataframe tbody tr th:only-of-type {\n        vertical-align: middle;\n    }\n\n    .dataframe tbody tr th {\n        vertical-align: top;\n    }\n\n    .dataframe thead th {\n        text-align: right;\n    }\n</style>\n<table border=\"1\" class=\"dataframe\">\n  <thead>\n    <tr style=\"text-align: right;\">\n      <th></th>\n      <th>country</th>\n      <th>capital</th>\n    </tr>\n  </thead>\n  <tbody>\n    <tr>\n      <th>0</th>\n      <td>UK</td>\n      <td>London</td>\n    </tr>\n    <tr>\n      <th>1</th>\n      <td>France</td>\n      <td>Paris</td>\n    </tr>\n    <tr>\n      <th>2</th>\n      <td>Italy</td>\n      <td>Rome</td>\n    </tr>\n  </tbody>\n</table>\n</div>"
     },
     "metadata": {},
     "execution_count": 16
    }
   ]
  },
  {
   "source": [
    "If you provide a custom index, the output index for the DataFrame will be a union of the indicies."
   ],
   "cell_type": "markdown",
   "metadata": {}
  },
  {
   "source": [
    "data = {\n",
    "    \"one\": pd.Series([1, 2, 3, 4], index=[\"a\", \"b\", \"c\", \"d\"]), \n",
    "    \"two\": pd.Series([5, 6, 7, 8, 9], index=[\"a\", \"b\", \"c\", \"e\", \"f\"])\n",
    "}\n",
    "pd.DataFrame(data)"
   ],
   "cell_type": "code",
   "metadata": {},
   "execution_count": 17,
   "outputs": [
    {
     "output_type": "execute_result",
     "data": {
      "text/plain": [
       "   one  two\n",
       "a  1.0  5.0\n",
       "b  2.0  6.0\n",
       "c  3.0  7.0\n",
       "d  4.0  NaN\n",
       "e  NaN  8.0\n",
       "f  NaN  9.0"
      ],
      "text/html": "<div>\n<style scoped>\n    .dataframe tbody tr th:only-of-type {\n        vertical-align: middle;\n    }\n\n    .dataframe tbody tr th {\n        vertical-align: top;\n    }\n\n    .dataframe thead th {\n        text-align: right;\n    }\n</style>\n<table border=\"1\" class=\"dataframe\">\n  <thead>\n    <tr style=\"text-align: right;\">\n      <th></th>\n      <th>one</th>\n      <th>two</th>\n    </tr>\n  </thead>\n  <tbody>\n    <tr>\n      <th>a</th>\n      <td>1.0</td>\n      <td>5.0</td>\n    </tr>\n    <tr>\n      <th>b</th>\n      <td>2.0</td>\n      <td>6.0</td>\n    </tr>\n    <tr>\n      <th>c</th>\n      <td>3.0</td>\n      <td>7.0</td>\n    </tr>\n    <tr>\n      <th>d</th>\n      <td>4.0</td>\n      <td>NaN</td>\n    </tr>\n    <tr>\n      <th>e</th>\n      <td>NaN</td>\n      <td>8.0</td>\n    </tr>\n    <tr>\n      <th>f</th>\n      <td>NaN</td>\n      <td>9.0</td>\n    </tr>\n  </tbody>\n</table>\n</div>"
     },
     "metadata": {},
     "execution_count": 17
    }
   ]
  },
  {
   "source": [
    "### Method 4: From a CSV File"
   ],
   "cell_type": "markdown",
   "metadata": {}
  },
  {
   "source": [
    "pd.read_csv(\"data/pandas-sample.csv\")\n",
    "# Notice how '+' in code was interpreted as a plus sign"
   ],
   "cell_type": "code",
   "metadata": {},
   "execution_count": 18,
   "outputs": [
    {
     "output_type": "execute_result",
     "data": {
      "text/plain": [
       "   code country capital\n",
       "0    44      UK  London\n",
       "1    33  France   Paris\n",
       "2    39   Italy    Rome"
      ],
      "text/html": "<div>\n<style scoped>\n    .dataframe tbody tr th:only-of-type {\n        vertical-align: middle;\n    }\n\n    .dataframe tbody tr th {\n        vertical-align: top;\n    }\n\n    .dataframe thead th {\n        text-align: right;\n    }\n</style>\n<table border=\"1\" class=\"dataframe\">\n  <thead>\n    <tr style=\"text-align: right;\">\n      <th></th>\n      <th>code</th>\n      <th>country</th>\n      <th>capital</th>\n    </tr>\n  </thead>\n  <tbody>\n    <tr>\n      <th>0</th>\n      <td>44</td>\n      <td>UK</td>\n      <td>London</td>\n    </tr>\n    <tr>\n      <th>1</th>\n      <td>33</td>\n      <td>France</td>\n      <td>Paris</td>\n    </tr>\n    <tr>\n      <th>2</th>\n      <td>39</td>\n      <td>Italy</td>\n      <td>Rome</td>\n    </tr>\n  </tbody>\n</table>\n</div>"
     },
     "metadata": {},
     "execution_count": 18
    }
   ]
  },
  {
   "cell_type": "code",
   "execution_count": 19,
   "metadata": {},
   "outputs": [
    {
     "output_type": "execute_result",
     "data": {
      "text/plain": [
       "  code country capital\n",
       "0  +44      UK  London\n",
       "1  +33  France   Paris\n",
       "2  +39   Italy    Rome"
      ],
      "text/html": "<div>\n<style scoped>\n    .dataframe tbody tr th:only-of-type {\n        vertical-align: middle;\n    }\n\n    .dataframe tbody tr th {\n        vertical-align: top;\n    }\n\n    .dataframe thead th {\n        text-align: right;\n    }\n</style>\n<table border=\"1\" class=\"dataframe\">\n  <thead>\n    <tr style=\"text-align: right;\">\n      <th></th>\n      <th>code</th>\n      <th>country</th>\n      <th>capital</th>\n    </tr>\n  </thead>\n  <tbody>\n    <tr>\n      <th>0</th>\n      <td>+44</td>\n      <td>UK</td>\n      <td>London</td>\n    </tr>\n    <tr>\n      <th>1</th>\n      <td>+33</td>\n      <td>France</td>\n      <td>Paris</td>\n    </tr>\n    <tr>\n      <th>2</th>\n      <td>+39</td>\n      <td>Italy</td>\n      <td>Rome</td>\n    </tr>\n  </tbody>\n</table>\n</div>"
     },
     "metadata": {},
     "execution_count": 19
    }
   ],
   "source": [
    "pd.read_csv(\"data/pandas-sample.csv\", dtype=str)\n",
    "# Now the + is correctly parsed"
   ]
  },
  {
   "cell_type": "code",
   "execution_count": 20,
   "metadata": {},
   "outputs": [
    {
     "output_type": "execute_result",
     "data": {
      "text/plain": [
       "     country capital\n",
       "code                \n",
       "44        UK  London\n",
       "33    France   Paris\n",
       "39     Italy    Rome"
      ],
      "text/html": "<div>\n<style scoped>\n    .dataframe tbody tr th:only-of-type {\n        vertical-align: middle;\n    }\n\n    .dataframe tbody tr th {\n        vertical-align: top;\n    }\n\n    .dataframe thead th {\n        text-align: right;\n    }\n</style>\n<table border=\"1\" class=\"dataframe\">\n  <thead>\n    <tr style=\"text-align: right;\">\n      <th></th>\n      <th>country</th>\n      <th>capital</th>\n    </tr>\n    <tr>\n      <th>code</th>\n      <th></th>\n      <th></th>\n    </tr>\n  </thead>\n  <tbody>\n    <tr>\n      <th>44</th>\n      <td>UK</td>\n      <td>London</td>\n    </tr>\n    <tr>\n      <th>33</th>\n      <td>France</td>\n      <td>Paris</td>\n    </tr>\n    <tr>\n      <th>39</th>\n      <td>Italy</td>\n      <td>Rome</td>\n    </tr>\n  </tbody>\n</table>\n</div>"
     },
     "metadata": {},
     "execution_count": 20
    }
   ],
   "source": [
    "pd.read_csv(\"data/pandas-sample.csv\", index_col=0)\n",
    "# To use one of the columns as an index"
   ]
  },
  {
   "source": [
    "### Method 5: From a JSON File"
   ],
   "cell_type": "markdown",
   "metadata": {}
  },
  {
   "source": [
    "df = pd.read_json(\"data/pandas-sample.json\")\n",
    "df.set_index('code', inplace=True)\n",
    "df"
   ],
   "cell_type": "code",
   "metadata": {},
   "execution_count": 21,
   "outputs": [
    {
     "output_type": "execute_result",
     "data": {
      "text/plain": [
       "     country capital\n",
       "code                \n",
       "44        UK  London\n",
       "33    France   Paris\n",
       "39     Italy    Rome"
      ],
      "text/html": "<div>\n<style scoped>\n    .dataframe tbody tr th:only-of-type {\n        vertical-align: middle;\n    }\n\n    .dataframe tbody tr th {\n        vertical-align: top;\n    }\n\n    .dataframe thead th {\n        text-align: right;\n    }\n</style>\n<table border=\"1\" class=\"dataframe\">\n  <thead>\n    <tr style=\"text-align: right;\">\n      <th></th>\n      <th>country</th>\n      <th>capital</th>\n    </tr>\n    <tr>\n      <th>code</th>\n      <th></th>\n      <th></th>\n    </tr>\n  </thead>\n  <tbody>\n    <tr>\n      <th>44</th>\n      <td>UK</td>\n      <td>London</td>\n    </tr>\n    <tr>\n      <th>33</th>\n      <td>France</td>\n      <td>Paris</td>\n    </tr>\n    <tr>\n      <th>39</th>\n      <td>Italy</td>\n      <td>Rome</td>\n    </tr>\n  </tbody>\n</table>\n</div>"
     },
     "metadata": {},
     "execution_count": 21
    }
   ]
  },
  {
   "source": [
    "## DataFrame Operations"
   ],
   "cell_type": "markdown",
   "metadata": {}
  },
  {
   "source": [
    "# Setup: Importing IMDB CSV File\n",
    "df = pd.read_csv(\"data/IMDB-Movie-Data.csv\", index_col=\"Rank\")"
   ],
   "cell_type": "code",
   "metadata": {},
   "execution_count": 22,
   "outputs": []
  },
  {
   "source": [
    "```df.head()``` returns the first few entries in the dataframe. By default it returns 5 rows."
   ],
   "cell_type": "markdown",
   "metadata": {}
  },
  {
   "source": [
    "# iloc[:, :2] (described below) returns the first two columns (for displaying)\n",
    "df.head().iloc[:, :2]"
   ],
   "cell_type": "code",
   "metadata": {},
   "execution_count": 23,
   "outputs": [
    {
     "output_type": "execute_result",
     "data": {
      "text/plain": [
       "                        Title                     Genre\n",
       "Rank                                                   \n",
       "1     Guardians of the Galaxy   Action,Adventure,Sci-Fi\n",
       "2                  Prometheus  Adventure,Mystery,Sci-Fi\n",
       "3                       Split           Horror,Thriller\n",
       "4                        Sing   Animation,Comedy,Family\n",
       "5               Suicide Squad  Action,Adventure,Fantasy"
      ],
      "text/html": "<div>\n<style scoped>\n    .dataframe tbody tr th:only-of-type {\n        vertical-align: middle;\n    }\n\n    .dataframe tbody tr th {\n        vertical-align: top;\n    }\n\n    .dataframe thead th {\n        text-align: right;\n    }\n</style>\n<table border=\"1\" class=\"dataframe\">\n  <thead>\n    <tr style=\"text-align: right;\">\n      <th></th>\n      <th>Title</th>\n      <th>Genre</th>\n    </tr>\n    <tr>\n      <th>Rank</th>\n      <th></th>\n      <th></th>\n    </tr>\n  </thead>\n  <tbody>\n    <tr>\n      <th>1</th>\n      <td>Guardians of the Galaxy</td>\n      <td>Action,Adventure,Sci-Fi</td>\n    </tr>\n    <tr>\n      <th>2</th>\n      <td>Prometheus</td>\n      <td>Adventure,Mystery,Sci-Fi</td>\n    </tr>\n    <tr>\n      <th>3</th>\n      <td>Split</td>\n      <td>Horror,Thriller</td>\n    </tr>\n    <tr>\n      <th>4</th>\n      <td>Sing</td>\n      <td>Animation,Comedy,Family</td>\n    </tr>\n    <tr>\n      <th>5</th>\n      <td>Suicide Squad</td>\n      <td>Action,Adventure,Fantasy</td>\n    </tr>\n  </tbody>\n</table>\n</div>"
     },
     "metadata": {},
     "execution_count": 23
    }
   ]
  },
  {
   "source": [
    "You can specify the limit in the function's argument."
   ],
   "cell_type": "markdown",
   "metadata": {}
  },
  {
   "cell_type": "code",
   "execution_count": 24,
   "metadata": {},
   "outputs": [
    {
     "output_type": "execute_result",
     "data": {
      "text/plain": [
       "                        Title                     Genre\n",
       "Rank                                                   \n",
       "1     Guardians of the Galaxy   Action,Adventure,Sci-Fi\n",
       "2                  Prometheus  Adventure,Mystery,Sci-Fi\n",
       "3                       Split           Horror,Thriller"
      ],
      "text/html": "<div>\n<style scoped>\n    .dataframe tbody tr th:only-of-type {\n        vertical-align: middle;\n    }\n\n    .dataframe tbody tr th {\n        vertical-align: top;\n    }\n\n    .dataframe thead th {\n        text-align: right;\n    }\n</style>\n<table border=\"1\" class=\"dataframe\">\n  <thead>\n    <tr style=\"text-align: right;\">\n      <th></th>\n      <th>Title</th>\n      <th>Genre</th>\n    </tr>\n    <tr>\n      <th>Rank</th>\n      <th></th>\n      <th></th>\n    </tr>\n  </thead>\n  <tbody>\n    <tr>\n      <th>1</th>\n      <td>Guardians of the Galaxy</td>\n      <td>Action,Adventure,Sci-Fi</td>\n    </tr>\n    <tr>\n      <th>2</th>\n      <td>Prometheus</td>\n      <td>Adventure,Mystery,Sci-Fi</td>\n    </tr>\n    <tr>\n      <th>3</th>\n      <td>Split</td>\n      <td>Horror,Thriller</td>\n    </tr>\n  </tbody>\n</table>\n</div>"
     },
     "metadata": {},
     "execution_count": 24
    }
   ],
   "source": [
    "df.head(3).iloc[:, :2]"
   ]
  },
  {
   "source": [
    "```df.tail()```, like ```df.head()```, returns the last few entries."
   ],
   "cell_type": "markdown",
   "metadata": {}
  },
  {
   "cell_type": "code",
   "execution_count": 25,
   "metadata": {},
   "outputs": [
    {
     "output_type": "execute_result",
     "data": {
      "text/plain": [
       "                       Title                  Genre\n",
       "Rank                                               \n",
       "998   Step Up 2: The Streets    Drama,Music,Romance\n",
       "999             Search Party       Adventure,Comedy\n",
       "1000              Nine Lives  Comedy,Family,Fantasy"
      ],
      "text/html": "<div>\n<style scoped>\n    .dataframe tbody tr th:only-of-type {\n        vertical-align: middle;\n    }\n\n    .dataframe tbody tr th {\n        vertical-align: top;\n    }\n\n    .dataframe thead th {\n        text-align: right;\n    }\n</style>\n<table border=\"1\" class=\"dataframe\">\n  <thead>\n    <tr style=\"text-align: right;\">\n      <th></th>\n      <th>Title</th>\n      <th>Genre</th>\n    </tr>\n    <tr>\n      <th>Rank</th>\n      <th></th>\n      <th></th>\n    </tr>\n  </thead>\n  <tbody>\n    <tr>\n      <th>998</th>\n      <td>Step Up 2: The Streets</td>\n      <td>Drama,Music,Romance</td>\n    </tr>\n    <tr>\n      <th>999</th>\n      <td>Search Party</td>\n      <td>Adventure,Comedy</td>\n    </tr>\n    <tr>\n      <th>1000</th>\n      <td>Nine Lives</td>\n      <td>Comedy,Family,Fantasy</td>\n    </tr>\n  </tbody>\n</table>\n</div>"
     },
     "metadata": {},
     "execution_count": 25
    }
   ],
   "source": [
    "df.tail(3).iloc[:, :2]"
   ]
  },
  {
   "cell_type": "code",
   "execution_count": 26,
   "metadata": {},
   "outputs": [
    {
     "output_type": "stream",
     "name": "stdout",
     "text": [
      "<class 'pandas.core.frame.DataFrame'>\nInt64Index: 1000 entries, 1 to 1000\nData columns (total 11 columns):\n #   Column              Non-Null Count  Dtype  \n---  ------              --------------  -----  \n 0   Title               1000 non-null   object \n 1   Genre               1000 non-null   object \n 2   Description         1000 non-null   object \n 3   Director            1000 non-null   object \n 4   Actors              1000 non-null   object \n 5   Year                1000 non-null   int64  \n 6   Runtime (Minutes)   1000 non-null   int64  \n 7   Rating              1000 non-null   float64\n 8   Votes               1000 non-null   int64  \n 9   Revenue (Millions)  872 non-null    float64\n 10  Metascore           936 non-null    float64\ndtypes: float64(3), int64(3), object(5)\nmemory usage: 93.8+ KB\n"
     ]
    }
   ],
   "source": [
    "df.info()"
   ]
  },
  {
   "cell_type": "code",
   "execution_count": 27,
   "metadata": {},
   "outputs": [
    {
     "output_type": "execute_result",
     "data": {
      "text/plain": [
       "(1000, 11)"
      ]
     },
     "metadata": {},
     "execution_count": 27
    }
   ],
   "source": [
    "df.shape"
   ]
  },
  {
   "cell_type": "code",
   "execution_count": 28,
   "metadata": {},
   "outputs": [
    {
     "output_type": "execute_result",
     "data": {
      "text/plain": [
       "11000"
      ]
     },
     "metadata": {},
     "execution_count": 28
    }
   ],
   "source": [
    "df.size"
   ]
  },
  {
   "source": [
    "type(df.values) # <class 'numpy.ndarray'>\n",
    "print(df.values)"
   ],
   "cell_type": "code",
   "metadata": {},
   "execution_count": 29,
   "outputs": [
    {
     "output_type": "stream",
     "name": "stdout",
     "text": [
      "[['Guardians of the Galaxy' 'Action,Adventure,Sci-Fi'\n  'A group of intergalactic criminals are forced to work together to stop a fanatical warrior from taking control of the universe.'\n  ... 757074 333.13 76.0]\n ['Prometheus' 'Adventure,Mystery,Sci-Fi'\n  'Following clues to the origin of mankind, a team finds a structure on a distant moon, but they soon realize they are not alone.'\n  ... 485820 126.46 65.0]\n ['Split' 'Horror,Thriller'\n  'Three girls are kidnapped by a man with a diagnosed 23 distinct personalities. They must try to escape before the apparent emergence of a frightful new 24th.'\n  ... 157606 138.12 62.0]\n ...\n ['Step Up 2: The Streets' 'Drama,Music,Romance'\n  'Romantic sparks occur between two dance students from different backgrounds at the Maryland School of the Arts.'\n  ... 70699 58.01 50.0]\n ['Search Party' 'Adventure,Comedy'\n  'A pair of friends embark on a mission to reunite their pal with the woman he was going to marry.'\n  ... 4881 nan 22.0]\n ['Nine Lives' 'Comedy,Family,Fantasy'\n  \"A stuffy businessman finds himself trapped inside the body of his family's cat.\"\n  ... 12435 19.64 11.0]]\n"
     ]
    }
   ]
  },
  {
   "source": [
    "## DataFrame Columns\n",
    "\n",
    "```df.columns``` returns the list of columns in the dataframe."
   ],
   "cell_type": "markdown",
   "metadata": {}
  },
  {
   "source": [
    "df.columns"
   ],
   "cell_type": "code",
   "metadata": {},
   "execution_count": 30,
   "outputs": [
    {
     "output_type": "execute_result",
     "data": {
      "text/plain": [
       "Index(['Title', 'Genre', 'Description', 'Director', 'Actors', 'Year',\n",
       "       'Runtime (Minutes)', 'Rating', 'Votes', 'Revenue (Millions)',\n",
       "       'Metascore'],\n",
       "      dtype='object')"
      ]
     },
     "metadata": {},
     "execution_count": 30
    }
   ]
  },
  {
   "source": [
    "Columns can be renamed with ```dframe.rename()``` method."
   ],
   "cell_type": "markdown",
   "metadata": {}
  },
  {
   "cell_type": "code",
   "execution_count": 31,
   "metadata": {},
   "outputs": [
    {
     "output_type": "execute_result",
     "data": {
      "text/plain": [
       "Index(['Title', 'Genre', 'Description', 'Director', 'Actors', 'Year',\n",
       "       'Runtime_mins', 'Rating', 'Votes', 'Revenue_mils', 'Metascore'],\n",
       "      dtype='object')"
      ]
     },
     "metadata": {},
     "execution_count": 31
    }
   ],
   "source": [
    "df.rename(columns={\"Runtime (Minutes)\": \"Runtime_mins\", \n",
    "                   \"Revenue (Millions)\": \"Revenue_mils\"\n",
    "                  }, inplace=True)\n",
    "df.columns\n"
   ]
  },
  {
   "source": [
    "### Accessing DataFrame Columns\n",
    "\n",
    "A single column can be can be accessed as a Series object by passing the column name to the dataframe.\n",
    "\n",
    "Multiple columns can be accessed by passing a list of column names."
   ],
   "cell_type": "markdown",
   "metadata": {}
  },
  {
   "source": [
    "genre_col = df[\"Genre\"]\n",
    "type(genre_col)         # <class 'pandas.core.series.Series'>\n",
    "genre_col.head(3)"
   ],
   "cell_type": "code",
   "metadata": {},
   "execution_count": 32,
   "outputs": [
    {
     "output_type": "execute_result",
     "data": {
      "text/plain": [
       "Rank\n",
       "1     Action,Adventure,Sci-Fi\n",
       "2    Adventure,Mystery,Sci-Fi\n",
       "3             Horror,Thriller\n",
       "Name: Genre, dtype: object"
      ]
     },
     "metadata": {},
     "execution_count": 32
    }
   ]
  },
  {
   "cell_type": "code",
   "execution_count": 33,
   "metadata": {},
   "outputs": [
    {
     "output_type": "execute_result",
     "data": {
      "text/plain": [
       "                         Genre  Year  Runtime_mins\n",
       "Rank                                              \n",
       "1      Action,Adventure,Sci-Fi  2014           121\n",
       "2     Adventure,Mystery,Sci-Fi  2012           124\n",
       "3              Horror,Thriller  2016           117"
      ],
      "text/html": "<div>\n<style scoped>\n    .dataframe tbody tr th:only-of-type {\n        vertical-align: middle;\n    }\n\n    .dataframe tbody tr th {\n        vertical-align: top;\n    }\n\n    .dataframe thead th {\n        text-align: right;\n    }\n</style>\n<table border=\"1\" class=\"dataframe\">\n  <thead>\n    <tr style=\"text-align: right;\">\n      <th></th>\n      <th>Genre</th>\n      <th>Year</th>\n      <th>Runtime_mins</th>\n    </tr>\n    <tr>\n      <th>Rank</th>\n      <th></th>\n      <th></th>\n      <th></th>\n    </tr>\n  </thead>\n  <tbody>\n    <tr>\n      <th>1</th>\n      <td>Action,Adventure,Sci-Fi</td>\n      <td>2014</td>\n      <td>121</td>\n    </tr>\n    <tr>\n      <th>2</th>\n      <td>Adventure,Mystery,Sci-Fi</td>\n      <td>2012</td>\n      <td>124</td>\n    </tr>\n    <tr>\n      <th>3</th>\n      <td>Horror,Thriller</td>\n      <td>2016</td>\n      <td>117</td>\n    </tr>\n  </tbody>\n</table>\n</div>"
     },
     "metadata": {},
     "execution_count": 33
    }
   ],
   "source": [
    "df_columns = df[[\"Genre\", \"Year\", \"Runtime_mins\"]]\n",
    "df_columns.head(3)"
   ]
  },
  {
   "source": [
    "## DataFrame Elements\n",
    "\n",
    "Elements in a DataFrame can be accessed in two ways\n",
    "\n",
    "* ```df.loc[label]```: by the index label, like a dictionary\n",
    "* ```df.iloc[pos]```: byu the position (row no.), like a list"
   ],
   "cell_type": "markdown",
   "metadata": {}
  },
  {
   "source": [
    "df = pd.read_csv(\"data/IMDB-Movie-Data.csv\", index_col=\"Title\")\n",
    "'''\n",
    "                     Title  ...\n",
    "0  Guardians of the Galaxy  ...\n",
    "1               Prometheus  ...\n",
    "2                    Split  ...\n",
    "3                     Sing  ...\n",
    "4            Suicide Squad  ...\n",
    "5           The Great Wall  ...\n",
    "6               La La Land  ...\n",
    "7                 Mindhorn  ...\n",
    "8       The Lost City of Z  ...\n",
    "9               Passengers  ...\n",
    "'''\n",
    "\n",
    "# Find La La Land by its index attribute\n",
    "df.loc[\"La La Land\"]\n",
    "\n",
    "# Find La La Land by its row position\n",
    "df.iloc[6]"
   ],
   "cell_type": "code",
   "metadata": {},
   "execution_count": 34,
   "outputs": [
    {
     "output_type": "execute_result",
     "data": {
      "text/plain": [
       "Rank                                                                  7\n",
       "Genre                                                Comedy,Drama,Music\n",
       "Description           A jazz pianist falls for an aspiring actress i...\n",
       "Director                                                Damien Chazelle\n",
       "Actors                Ryan Gosling, Emma Stone, Rosemarie DeWitt, J....\n",
       "Year                                                               2016\n",
       "Runtime (Minutes)                                                   128\n",
       "Rating                                                             8.30\n",
       "Votes                                                            258682\n",
       "Revenue (Millions)                                               151.06\n",
       "Metascore                                                         93.00\n",
       "Name: La La Land, dtype: object"
      ]
     },
     "metadata": {},
     "execution_count": 34
    }
   ]
  },
  {
   "source": [
    "Slicing also works for both df.loc() and df.iloc()."
   ],
   "cell_type": "markdown",
   "metadata": {}
  },
  {
   "source": [
    "df.loc[\"Prometheus\":\"Suicide Squad\"]\n",
    "df.iloc[1:4].iloc[:, :2]    # final iloc for displaying purposes"
   ],
   "cell_type": "code",
   "metadata": {},
   "execution_count": 35,
   "outputs": [
    {
     "output_type": "execute_result",
     "data": {
      "text/plain": [
       "            Rank                     Genre\n",
       "Title                                     \n",
       "Prometheus     2  Adventure,Mystery,Sci-Fi\n",
       "Split          3           Horror,Thriller\n",
       "Sing           4   Animation,Comedy,Family"
      ],
      "text/html": "<div>\n<style scoped>\n    .dataframe tbody tr th:only-of-type {\n        vertical-align: middle;\n    }\n\n    .dataframe tbody tr th {\n        vertical-align: top;\n    }\n\n    .dataframe thead th {\n        text-align: right;\n    }\n</style>\n<table border=\"1\" class=\"dataframe\">\n  <thead>\n    <tr style=\"text-align: right;\">\n      <th></th>\n      <th>Rank</th>\n      <th>Genre</th>\n    </tr>\n    <tr>\n      <th>Title</th>\n      <th></th>\n      <th></th>\n    </tr>\n  </thead>\n  <tbody>\n    <tr>\n      <th>Prometheus</th>\n      <td>2</td>\n      <td>Adventure,Mystery,Sci-Fi</td>\n    </tr>\n    <tr>\n      <th>Split</th>\n      <td>3</td>\n      <td>Horror,Thriller</td>\n    </tr>\n    <tr>\n      <th>Sing</th>\n      <td>4</td>\n      <td>Animation,Comedy,Family</td>\n    </tr>\n  </tbody>\n</table>\n</div>"
     },
     "metadata": {},
     "execution_count": 35
    }
   ]
  },
  {
   "source": [
    "You can also access specific rows and/or columns."
   ],
   "cell_type": "markdown",
   "metadata": {}
  },
  {
   "source": [
    "# All rows, one column\n",
    "all_years = df.loc[:, \"Year\"]\n",
    "\n",
    "# All rows, multiple columns\n",
    "all_years_and_directors = df.loc[:, [\"Year\", \"Director\"]]\n",
    "\n",
    "# Multiple rows, multiple columns\n",
    "some_movies = df.loc[[\"Inception\", \"Interstellar\"], [\"Year\", \"Director\"]]\n"
   ],
   "cell_type": "code",
   "metadata": {},
   "execution_count": 36,
   "outputs": []
  },
  {
   "source": [
    "## DataFrame Iterations\n",
    "\n",
    "### Iterating over Columns\n",
    "\n",
    "Iterating over the dataframe itself gives column names."
   ],
   "cell_type": "markdown",
   "metadata": {}
  },
  {
   "source": [
    "for col in df:\n",
    "    print(col)"
   ],
   "cell_type": "code",
   "metadata": {},
   "execution_count": 37,
   "outputs": [
    {
     "output_type": "stream",
     "name": "stdout",
     "text": [
      "Rank\nGenre\nDescription\nDirector\nActors\nYear\nRuntime (Minutes)\nRating\nVotes\nRevenue (Millions)\nMetascore\n"
     ]
    }
   ]
  },
  {
   "source": [
    "### Iterating over Rows\n",
    "\n",
    "There are several options for iterating over rows."
   ],
   "cell_type": "markdown",
   "metadata": {
    "tags": []
   }
  },
  {
   "cell_type": "code",
   "execution_count": 38,
   "metadata": {},
   "outputs": [
    {
     "output_type": "execute_result",
     "data": {
      "text/plain": [
       "                         Rank                     Genre\n",
       "Title                                                  \n",
       "Guardians of the Galaxy     1   Action,Adventure,Sci-Fi\n",
       "Prometheus                  2  Adventure,Mystery,Sci-Fi\n",
       "Split                       3           Horror,Thriller"
      ],
      "text/html": "<div>\n<style scoped>\n    .dataframe tbody tr th:only-of-type {\n        vertical-align: middle;\n    }\n\n    .dataframe tbody tr th {\n        vertical-align: top;\n    }\n\n    .dataframe thead th {\n        text-align: right;\n    }\n</style>\n<table border=\"1\" class=\"dataframe\">\n  <thead>\n    <tr style=\"text-align: right;\">\n      <th></th>\n      <th>Rank</th>\n      <th>Genre</th>\n    </tr>\n    <tr>\n      <th>Title</th>\n      <th></th>\n      <th></th>\n    </tr>\n  </thead>\n  <tbody>\n    <tr>\n      <th>Guardians of the Galaxy</th>\n      <td>1</td>\n      <td>Action,Adventure,Sci-Fi</td>\n    </tr>\n    <tr>\n      <th>Prometheus</th>\n      <td>2</td>\n      <td>Adventure,Mystery,Sci-Fi</td>\n    </tr>\n    <tr>\n      <th>Split</th>\n      <td>3</td>\n      <td>Horror,Thriller</td>\n    </tr>\n  </tbody>\n</table>\n</div>"
     },
     "metadata": {},
     "execution_count": 38
    }
   ],
   "source": [
    "df_subset = df.iloc[:3, :2]\n",
    "df_subset"
   ]
  },
  {
   "source": [
    "# df.iteritems()\n",
    "for (key, value) in df_subset.iteritems():  \n",
    "    print(key)\n",
    "    print(value, end='\\n\\n')"
   ],
   "cell_type": "code",
   "metadata": {},
   "execution_count": 39,
   "outputs": [
    {
     "output_type": "stream",
     "name": "stdout",
     "text": [
      "Rank\nTitle\nGuardians of the Galaxy    1\nPrometheus                 2\nSplit                      3\nName: Rank, dtype: int64\n\nGenre\nTitle\nGuardians of the Galaxy     Action,Adventure,Sci-Fi\nPrometheus                 Adventure,Mystery,Sci-Fi\nSplit                               Horror,Thriller\nName: Genre, dtype: object\n\n"
     ]
    }
   ]
  },
  {
   "cell_type": "code",
   "execution_count": 40,
   "metadata": {},
   "outputs": [
    {
     "output_type": "stream",
     "name": "stdout",
     "text": [
      "Guardians of the Galaxy\nRank                           1\nGenre    Action,Adventure,Sci-Fi\nName: Guardians of the Galaxy, dtype: object\n\nPrometheus\nRank                            2\nGenre    Adventure,Mystery,Sci-Fi\nName: Prometheus, dtype: object\n\nSplit\nRank                   3\nGenre    Horror,Thriller\nName: Split, dtype: object\n\n"
     ]
    }
   ],
   "source": [
    "# df.iterrows()\n",
    "for (row_index, row) in df_subset.iterrows():\n",
    "    print(row_index)\n",
    "    print(row, end='\\n\\n')"
   ]
  },
  {
   "cell_type": "code",
   "execution_count": 41,
   "metadata": {},
   "outputs": [
    {
     "output_type": "stream",
     "name": "stdout",
     "text": [
      "Pandas(Index='Guardians of the Galaxy', Rank=1, Genre='Action,Adventure,Sci-Fi')\n\nPandas(Index='Prometheus', Rank=2, Genre='Adventure,Mystery,Sci-Fi')\n\nPandas(Index='Split', Rank=3, Genre='Horror,Thriller')\n\n"
     ]
    }
   ],
   "source": [
    "# df.itertuples()\n",
    "for row in df_subset.itertuples():\n",
    "    print(row, end='\\n\\n')"
   ]
  },
  {
   "source": [
    "## DataFrame Filtering\n",
    "\n",
    "You can filter the data by selecting a column and applying a condition on it, just like a numpy array."
   ],
   "cell_type": "markdown",
   "metadata": {}
  },
  {
   "source": [
    "# Applying a condition returns a True/False DataFrame\n",
    "(df[\"Director\"] == \"Ridley Scott\").head(3)"
   ],
   "cell_type": "code",
   "metadata": {},
   "execution_count": 42,
   "outputs": [
    {
     "output_type": "execute_result",
     "data": {
      "text/plain": [
       "Title\n",
       "Guardians of the Galaxy    False\n",
       "Prometheus                  True\n",
       "Split                      False\n",
       "Name: Director, dtype: bool"
      ]
     },
     "metadata": {},
     "execution_count": 42
    }
   ]
  },
  {
   "cell_type": "code",
   "execution_count": 43,
   "metadata": {},
   "outputs": [
    {
     "output_type": "execute_result",
     "data": {
      "text/plain": [
       "             Rank                     Genre\n",
       "Title                                      \n",
       "Prometheus      2  Adventure,Mystery,Sci-Fi\n",
       "The Martian   103    Adventure,Drama,Sci-Fi\n",
       "Robin Hood    388    Action,Adventure,Drama"
      ],
      "text/html": "<div>\n<style scoped>\n    .dataframe tbody tr th:only-of-type {\n        vertical-align: middle;\n    }\n\n    .dataframe tbody tr th {\n        vertical-align: top;\n    }\n\n    .dataframe thead th {\n        text-align: right;\n    }\n</style>\n<table border=\"1\" class=\"dataframe\">\n  <thead>\n    <tr style=\"text-align: right;\">\n      <th></th>\n      <th>Rank</th>\n      <th>Genre</th>\n    </tr>\n    <tr>\n      <th>Title</th>\n      <th></th>\n      <th></th>\n    </tr>\n  </thead>\n  <tbody>\n    <tr>\n      <th>Prometheus</th>\n      <td>2</td>\n      <td>Adventure,Mystery,Sci-Fi</td>\n    </tr>\n    <tr>\n      <th>The Martian</th>\n      <td>103</td>\n      <td>Adventure,Drama,Sci-Fi</td>\n    </tr>\n    <tr>\n      <th>Robin Hood</th>\n      <td>388</td>\n      <td>Action,Adventure,Drama</td>\n    </tr>\n  </tbody>\n</table>\n</div>"
     },
     "metadata": {},
     "execution_count": 43
    }
   ],
   "source": [
    "# Passing the True/False dataframe returns a filtered DataFrame\n",
    "(df[df[\"Director\"] == \"Ridley Scott\"]).head(3).iloc[:, :2]"
   ]
  },
  {
   "source": [
    "# \"Director\" is \"Christopher Nolan\" or \"Ridley Scott\"\n",
    "df[df[\"Director\"].isin([\"Christopher Nolan\", \"Ridley Scott\"])].head(3).iloc[:, :2]"
   ],
   "cell_type": "code",
   "metadata": {},
   "execution_count": 44,
   "outputs": [
    {
     "output_type": "execute_result",
     "data": {
      "text/plain": [
       "                 Rank                     Genre\n",
       "Title                                          \n",
       "Prometheus          2  Adventure,Mystery,Sci-Fi\n",
       "Interstellar       37    Adventure,Drama,Sci-Fi\n",
       "The Dark Knight    55        Action,Crime,Drama"
      ],
      "text/html": "<div>\n<style scoped>\n    .dataframe tbody tr th:only-of-type {\n        vertical-align: middle;\n    }\n\n    .dataframe tbody tr th {\n        vertical-align: top;\n    }\n\n    .dataframe thead th {\n        text-align: right;\n    }\n</style>\n<table border=\"1\" class=\"dataframe\">\n  <thead>\n    <tr style=\"text-align: right;\">\n      <th></th>\n      <th>Rank</th>\n      <th>Genre</th>\n    </tr>\n    <tr>\n      <th>Title</th>\n      <th></th>\n      <th></th>\n    </tr>\n  </thead>\n  <tbody>\n    <tr>\n      <th>Prometheus</th>\n      <td>2</td>\n      <td>Adventure,Mystery,Sci-Fi</td>\n    </tr>\n    <tr>\n      <th>Interstellar</th>\n      <td>37</td>\n      <td>Adventure,Drama,Sci-Fi</td>\n    </tr>\n    <tr>\n      <th>The Dark Knight</th>\n      <td>55</td>\n      <td>Action,Crime,Drama</td>\n    </tr>\n  </tbody>\n</table>\n</div>"
     },
     "metadata": {},
     "execution_count": 44
    }
   ]
  },
  {
   "source": [
    "# Selecting movies released between 2008-2010 with a rating above 8.3 \n",
    "# and returning only the year and rating\n",
    "between_2008_2010 = (df[\"Year\"] >= 2008) & (df[\"Year\"] <= 2010)\n",
    "rating_gte_8_3 = df[\"Rating\"] >= 8.3\n",
    "df_cond = df[between_2008_2010 & rating_gte_8_3]\n",
    "df_select = df_cond[[\"Year\", \"Rating\"]]\n",
    "df_select"
   ],
   "cell_type": "code",
   "metadata": {},
   "execution_count": 45,
   "outputs": [
    {
     "output_type": "execute_result",
     "data": {
      "text/plain": [
       "                      Year  Rating\n",
       "Title                             \n",
       "The Dark Knight       2008     9.0\n",
       "Inglourious Basterds  2009     8.3\n",
       "Inception             2010     8.8\n",
       "3 Idiots              2009     8.4\n",
       "Up                    2009     8.3\n",
       "WALL·E                2008     8.4\n",
       "Toy Story 3           2010     8.3"
      ],
      "text/html": "<div>\n<style scoped>\n    .dataframe tbody tr th:only-of-type {\n        vertical-align: middle;\n    }\n\n    .dataframe tbody tr th {\n        vertical-align: top;\n    }\n\n    .dataframe thead th {\n        text-align: right;\n    }\n</style>\n<table border=\"1\" class=\"dataframe\">\n  <thead>\n    <tr style=\"text-align: right;\">\n      <th></th>\n      <th>Year</th>\n      <th>Rating</th>\n    </tr>\n    <tr>\n      <th>Title</th>\n      <th></th>\n      <th></th>\n    </tr>\n  </thead>\n  <tbody>\n    <tr>\n      <th>The Dark Knight</th>\n      <td>2008</td>\n      <td>9.0</td>\n    </tr>\n    <tr>\n      <th>Inglourious Basterds</th>\n      <td>2009</td>\n      <td>8.3</td>\n    </tr>\n    <tr>\n      <th>Inception</th>\n      <td>2010</td>\n      <td>8.8</td>\n    </tr>\n    <tr>\n      <th>3 Idiots</th>\n      <td>2009</td>\n      <td>8.4</td>\n    </tr>\n    <tr>\n      <th>Up</th>\n      <td>2009</td>\n      <td>8.3</td>\n    </tr>\n    <tr>\n      <th>WALL·E</th>\n      <td>2008</td>\n      <td>8.4</td>\n    </tr>\n    <tr>\n      <th>Toy Story 3</th>\n      <td>2010</td>\n      <td>8.3</td>\n    </tr>\n  </tbody>\n</table>\n</div>"
     },
     "metadata": {},
     "execution_count": 45
    }
   ]
  },
  {
   "source": [
    "## DataFrame Information\n",
    "\n",
    "### Summary Statistics\n",
    "\n",
    "```pd.describe()``` returns summary statics of the Series or DataFrame."
   ],
   "cell_type": "markdown",
   "metadata": {}
  },
  {
   "source": [
    "# Series with numeric data\n",
    "s = pd.Series([1, 2, 3])\n",
    "s.describe()"
   ],
   "cell_type": "code",
   "metadata": {},
   "execution_count": 46,
   "outputs": [
    {
     "output_type": "execute_result",
     "data": {
      "text/plain": [
       "count    3.0\n",
       "mean     2.0\n",
       "std      1.0\n",
       "min      1.0\n",
       "25%      1.5\n",
       "50%      2.0\n",
       "75%      2.5\n",
       "max      3.0\n",
       "dtype: float64"
      ]
     },
     "metadata": {},
     "execution_count": 46
    }
   ]
  },
  {
   "cell_type": "code",
   "execution_count": 47,
   "metadata": {},
   "outputs": [
    {
     "output_type": "execute_result",
     "data": {
      "text/plain": [
       "count     4\n",
       "unique    3\n",
       "top       a\n",
       "freq      2\n",
       "dtype: object"
      ]
     },
     "metadata": {},
     "execution_count": 47
    }
   ],
   "source": [
    "# Series with categorical data\n",
    "s = pd.Series([\"a\", \"a\", \"b\", \"c\"])\n",
    "s.describe()"
   ]
  },
  {
   "source": [
    "```df.value_counts()``` returns the frequency counts for each element."
   ],
   "cell_type": "markdown",
   "metadata": {}
  },
  {
   "source": [
    "s = pd.Series([\"a\", \"a\", \"b\", \"a\", \"c\", \"b\", \"d\"])\n",
    "s.value_counts()"
   ],
   "cell_type": "code",
   "metadata": {},
   "execution_count": 48,
   "outputs": [
    {
     "output_type": "execute_result",
     "data": {
      "text/plain": [
       "a    3\n",
       "b    2\n",
       "d    1\n",
       "c    1\n",
       "dtype: int64"
      ]
     },
     "metadata": {},
     "execution_count": 48
    }
   ]
  },
  {
   "cell_type": "code",
   "execution_count": 49,
   "metadata": {},
   "outputs": [
    {
     "output_type": "execute_result",
     "data": {
      "text/plain": [
       "Action,Adventure,Sci-Fi    50\n",
       "Drama                      48\n",
       "Comedy,Drama,Romance       35\n",
       "Comedy                     32\n",
       "Drama,Romance              31\n",
       "                           ..\n",
       "Comedy,Horror,Romance       1\n",
       "Biography,Comedy,Crime      1\n",
       "Animation,Drama,Fantasy     1\n",
       "Drama,Western               1\n",
       "Drama,Family,Music          1\n",
       "Name: Genre, Length: 207, dtype: int64"
      ]
     },
     "metadata": {},
     "execution_count": 49
    }
   ],
   "source": [
    "df[\"Genre\"].value_counts()"
   ]
  },
  {
   "source": [
    "## Missing values\n",
    "\n",
    "To deal with null/missing values, you can\n",
    "* remove the rows/columns with nulls\n",
    "* replace nulls with non-null values (imputation)\n",
    "\n",
    "```df.isnull()``` returns an array ob bools indicating whether each element is missing.\n",
    "\n",
    "```df.isnull().sum()``` returns the number of nulls in each column."
   ],
   "cell_type": "markdown",
   "metadata": {}
  },
  {
   "source": [
    "df.isnull().sum()"
   ],
   "cell_type": "code",
   "metadata": {},
   "execution_count": 50,
   "outputs": [
    {
     "output_type": "execute_result",
     "data": {
      "text/plain": [
       "Rank                    0\n",
       "Genre                   0\n",
       "Description             0\n",
       "Director                0\n",
       "Actors                  0\n",
       "Year                    0\n",
       "Runtime (Minutes)       0\n",
       "Rating                  0\n",
       "Votes                   0\n",
       "Revenue (Millions)    128\n",
       "Metascore              64\n",
       "dtype: int64"
      ]
     },
     "metadata": {},
     "execution_count": 50
    }
   ]
  },
  {
   "source": [
    "### Removing Missing Values\n",
    "\n",
    "```df.dropna()``` drops the entire rows/columns that contain null values (depending on the axis parameter). Adding inplace=True as a parameter to .dropna() will modify df directly."
   ],
   "cell_type": "markdown",
   "metadata": {}
  },
  {
   "source": [
    "df.shape    # (1000, 11)\n",
    "\n",
    "# Drops the entire row with null values\n",
    "clean_df = df.dropna()  # Using df.dropna(inplace=True) will modify df directly\n",
    "clean_df.shape"
   ],
   "cell_type": "code",
   "metadata": {},
   "execution_count": 51,
   "outputs": [
    {
     "output_type": "execute_result",
     "data": {
      "text/plain": [
       "(838, 11)"
      ]
     },
     "metadata": {},
     "execution_count": 51
    }
   ]
  },
  {
   "cell_type": "code",
   "execution_count": 52,
   "metadata": {},
   "outputs": [
    {
     "output_type": "execute_result",
     "data": {
      "text/plain": [
       "(1000, 9)"
      ]
     },
     "metadata": {},
     "execution_count": 52
    }
   ],
   "source": [
    "df.shape    # (1000, 11)\n",
    "\n",
    "# Drops the entire column with null values\n",
    "clean_df = df.dropna(axis=1)\n",
    "clean_df.shape"
   ]
  },
  {
   "source": [
    "### Replacing Missing Values\n",
    "\n",
    "```df.fillna()``` replaces all null values with the supplied value. The nulls are generally replaced with the mean or median value of the column."
   ],
   "cell_type": "markdown",
   "metadata": {}
  },
  {
   "source": [
    "# Get the revenues column\n",
    "revenues = df[\"Revenue (Millions)\"]\n",
    "\n",
    "# Replace missing revenues with the mean revenue\n",
    "revenues.fillna(revenues.mean(), inplace=True)"
   ],
   "cell_type": "code",
   "metadata": {},
   "execution_count": 53,
   "outputs": []
  },
  {
   "source": [
    "## Miscellaneous\n",
    "\n",
    "### ```.append()```\n",
    "\n",
    "```df.append(other)``` returns a new dataframe with ```other``` appended to ```df```. Other can be any dataframe, series, dict-like object, or a list of these.\n",
    "\n",
    "### ```.drop_duplicates()```\n",
    "\n",
    "```df.drop_duplicates()``` returns a new dataframe with duplicates removed.\n",
    "\n",
    "### ```.apply(func, axis= )```\n",
    "\n",
    "```df.apply(func, axis= )``` applies a function to the given ```df```, either for each row or column depending on the axis parameter. This method is more efficient than manually iterating over the DataFrame.\n",
    "\n",
    "It is useful when you want to create a new column with the given values."
   ],
   "cell_type": "markdown",
   "metadata": {}
  },
  {
   "source": [
    "def rotten_tomatoes(rating):\n",
    "    if rating >= 8.0:\n",
    "        return \"fresh\"\n",
    "    else:\n",
    "        return \"rotten\"\n",
    "\n",
    "df[\"RT\"] = df[\"Rating\"].apply(rotten_tomatoes)\n",
    "\n",
    "df[[\"Rating\", \"RT\"]].head(4)"
   ],
   "cell_type": "code",
   "metadata": {},
   "execution_count": 54,
   "outputs": [
    {
     "output_type": "execute_result",
     "data": {
      "text/plain": [
       "                         Rating      RT\n",
       "Title                                  \n",
       "Guardians of the Galaxy     8.1   fresh\n",
       "Prometheus                  7.0  rotten\n",
       "Split                       7.3  rotten\n",
       "Sing                        7.2  rotten"
      ],
      "text/html": "<div>\n<style scoped>\n    .dataframe tbody tr th:only-of-type {\n        vertical-align: middle;\n    }\n\n    .dataframe tbody tr th {\n        vertical-align: top;\n    }\n\n    .dataframe thead th {\n        text-align: right;\n    }\n</style>\n<table border=\"1\" class=\"dataframe\">\n  <thead>\n    <tr style=\"text-align: right;\">\n      <th></th>\n      <th>Rating</th>\n      <th>RT</th>\n    </tr>\n    <tr>\n      <th>Title</th>\n      <th></th>\n      <th></th>\n    </tr>\n  </thead>\n  <tbody>\n    <tr>\n      <th>Guardians of the Galaxy</th>\n      <td>8.1</td>\n      <td>fresh</td>\n    </tr>\n    <tr>\n      <th>Prometheus</th>\n      <td>7.0</td>\n      <td>rotten</td>\n    </tr>\n    <tr>\n      <th>Split</th>\n      <td>7.3</td>\n      <td>rotten</td>\n    </tr>\n    <tr>\n      <th>Sing</th>\n      <td>7.2</td>\n      <td>rotten</td>\n    </tr>\n  </tbody>\n</table>\n</div>"
     },
     "metadata": {},
     "execution_count": 54
    }
   ]
  }
 ]
}