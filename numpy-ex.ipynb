{
 "metadata": {
  "language_info": {
   "codemirror_mode": {
    "name": "ipython",
    "version": 3
   },
   "file_extension": ".py",
   "mimetype": "text/x-python",
   "name": "python",
   "nbconvert_exporter": "python",
   "pygments_lexer": "ipython3",
   "version": "3.8.5-final"
  },
  "orig_nbformat": 2,
  "kernelspec": {
   "name": "python3",
   "display_name": "Python 3.8.5 64-bit ('env-deep': venv)",
   "metadata": {
    "interpreter": {
     "hash": "ac572a647ed416f544900dcf74f12c9d7842f4c56aca40ea7c8cf0ec866e7758"
    }
   }
  }
 },
 "nbformat": 4,
 "nbformat_minor": 2,
 "cells": [
  {
   "source": [
    "# Numpy Exercise\n",
    "\n",
    "## Setup"
   ],
   "cell_type": "markdown",
   "metadata": {}
  },
  {
   "cell_type": "code",
   "execution_count": null,
   "metadata": {},
   "outputs": [],
   "source": [
    "import numpy as np"
   ]
  },
  {
   "source": [
    "Ex1\n",
    "\n",
    "1. Try to multiply each element of list(range(10)) by 2, then minus 3 from each element\n",
    "2. Now multiply each element of np.arange(10) by 2"
   ],
   "cell_type": "markdown",
   "metadata": {}
  },
  {
   "cell_type": "code",
   "execution_count": 6,
   "metadata": {},
   "outputs": [
    {
     "output_type": "stream",
     "name": "stdout",
     "text": [
      "[0, 1, 2, 3, 4, 5, 6, 7, 8, 9]\n[-3, -1, 1, 3, 5, 7, 9, 11, 13, 15]\n[0 1 2 3 4 5 6 7 8 9]\n[ 0  2  4  6  8 10 12 14 16 18]\n"
     ]
    }
   ],
   "source": [
    "py_list = list(range(10))\n",
    "print(py_list)\n",
    "for i in range(len(py_list)):\n",
    "    py_list[i] *= 2\n",
    "    py_list[i] -= 3\n",
    "print(py_list)\n",
    "\n",
    "np_list = np.arange(10)\n",
    "print(np_list)\n",
    "np_list *= 2\n",
    "print(np_list)\n"
   ]
  },
  {
   "source": [
    "Ex2: Find out how you would do the following using NumPy\n",
    "* Create an identity matrix\n",
    "* Find the square root of each element in an array\n",
    "* Square each element in an array\n",
    "* Take logs of each element in an array\n",
    "* Create an array of zeros\n",
    "* Create an array of ones\n",
    "* Give the value of Pi\n",
    "* Transpose an array\n",
    "* Round down a float\n",
    "* Find the median of floats in a NumPy array\n",
    "* Add a new element to a NumPy array"
   ],
   "cell_type": "markdown",
   "metadata": {}
  },
  {
   "cell_type": "code",
   "execution_count": null,
   "metadata": {},
   "outputs": [],
   "source": [
    "pass"
   ]
  },
  {
   "source": [
    "Ex3: Create a 1x40 1D array, and then convert this into a 8x5 2d NumPy array"
   ],
   "cell_type": "markdown",
   "metadata": {}
  },
  {
   "cell_type": "code",
   "execution_count": null,
   "metadata": {},
   "outputs": [],
   "source": [
    "pass"
   ]
  },
  {
   "source": [
    "Ex4: Create a 1x2000 array with the step wise sequence from 1 to 2000, \n",
    "     and then convert this into a 40x50 2d NumPy array. Then:\n",
    "* Index this array correctly to return the value 435\n",
    "* Index this array correctly to return the value 951"
   ],
   "cell_type": "markdown",
   "metadata": {}
  },
  {
   "cell_type": "code",
   "execution_count": null,
   "metadata": {},
   "outputs": [],
   "source": [
    "pass"
   ]
  },
  {
   "source": [
    "Ex5\n",
    "\n",
    "a) What happens when we use .ravel()? For example, how is np.arange(20)\n",
    "   .reshape(20,1).ravel() different to np.arange(20).reshape(20,1)?\n",
    "\n",
    "b) We can use .all() to check whether two NumPy arrays are identical. \n",
    "   Which of the following do you expect to return True? Check your answers \n",
    "   using Python:\n",
    "* (np.arange(20).reshape(20,1) == np.arange(20)).all()\n",
    "* (np.arange(20).reshape(20,1).ravel() == np.arange(20)).all()\n",
    "* (np.arange(20).reshape(20,1,1).ravel() == np.arange(20)).all()\n",
    "* (np.arange(20).reshape(20,) == np.arange(20)).all()\n",
    "* (np.arange(20).reshape(20,) == np.arange(20).ravel()).all()"
   ],
   "cell_type": "markdown",
   "metadata": {}
  },
  {
   "cell_type": "code",
   "execution_count": null,
   "metadata": {},
   "outputs": [],
   "source": [
    "pass"
   ]
  },
  {
   "source": [
    "Ex6: Can you find 2 different ways to do element-wise multiplication between \n",
    "     two arrays? Try using a = np.arange(9).reshape(3, 3)."
   ],
   "cell_type": "markdown",
   "metadata": {}
  },
  {
   "cell_type": "code",
   "execution_count": null,
   "metadata": {},
   "outputs": [],
   "source": [
    "pass"
   ]
  },
  {
   "source": [
    "Ex7: Can you find 3 different ways to do matrix multiplication between two arrays?"
   ],
   "cell_type": "markdown",
   "metadata": {}
  },
  {
   "cell_type": "code",
   "execution_count": null,
   "metadata": {},
   "outputs": [],
   "source": [
    "pass"
   ]
  },
  {
   "source": [
    "Ex8: Normalise the vector reprsented by np.array(\\[3, 5, 1, 2, 4]) to find the\n",
    "     unit vector in the same direction."
   ],
   "cell_type": "markdown",
   "metadata": {}
  },
  {
   "cell_type": "code",
   "execution_count": null,
   "metadata": {},
   "outputs": [],
   "source": [
    "pass"
   ]
  },
  {
   "source": [
    "Ex9: Find the angle between the two vectors a and b represented by:\n",
    "* a = np.array(\\[3, 4, 1, 5])\n",
    "* b = np.array(\\[4, 1, 1, -1])"
   ],
   "cell_type": "markdown",
   "metadata": {}
  },
  {
   "cell_type": "code",
   "execution_count": null,
   "metadata": {},
   "outputs": [],
   "source": [
    "pass"
   ]
  },
  {
   "source": [
    "Ex10: Use NumPy and matrix multipliation to solve the following linear \n",
    "      equations:\n",
    "* 2x + 4y = 8\n",
    "* 3x - 2y = 8"
   ],
   "cell_type": "markdown",
   "metadata": {}
  },
  {
   "cell_type": "code",
   "execution_count": null,
   "metadata": {},
   "outputs": [],
   "source": [
    "pass"
   ]
  },
  {
   "source": [
    "Ex11: Solve the following equation to find w:\n",
    "\n",
    "                w = (X_t * X) * X_t * y\n",
    "\n",
    "where X = np.array(\\[\\[1, 2, 3], \\[2, 4, 5]]) and y = np.array(\\[3, 5])"
   ],
   "cell_type": "markdown",
   "metadata": {}
  },
  {
   "cell_type": "code",
   "execution_count": null,
   "metadata": {},
   "outputs": [],
   "source": [
    "pass"
   ]
  },
  {
   "source": [
    "Ex12: Using as few lines of code as possible, create an 8x8 NumPy array with a\n",
    "      checkboard pattern\n",
    "\n",
    "e.g. \\[\\[0, 1, 0, 1, 0, 1, 0, 1], \\[1, 0, 1, 0, 1, 0, 1, 0]… etc"
   ],
   "cell_type": "markdown",
   "metadata": {}
  },
  {
   "cell_type": "code",
   "execution_count": null,
   "metadata": {},
   "outputs": [],
   "source": [
    "pass"
   ]
  }
 ]
}