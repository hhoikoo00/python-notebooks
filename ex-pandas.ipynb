{
 "metadata": {
  "language_info": {
   "codemirror_mode": {
    "name": "ipython",
    "version": 3
   },
   "file_extension": ".py",
   "mimetype": "text/x-python",
   "name": "python",
   "nbconvert_exporter": "python",
   "pygments_lexer": "ipython3",
   "version": "3.8.5-final"
  },
  "orig_nbformat": 2,
  "kernelspec": {
   "name": "python3",
   "display_name": "Python 3",
   "language": "python"
  }
 },
 "nbformat": 4,
 "nbformat_minor": 2,
 "cells": [
  {
   "source": [
    "# Pandas Exercise"
   ],
   "cell_type": "markdown",
   "metadata": {}
  },
  {
   "source": [
    "## Setup"
   ],
   "cell_type": "markdown",
   "metadata": {}
  },
  {
   "cell_type": "code",
   "execution_count": 1,
   "metadata": {},
   "outputs": [],
   "source": [
    "import numpy as np\n",
    "import pandas as pd"
   ]
  },
  {
   "source": [
    "## Part A: Data cleaning and selection"
   ],
   "cell_type": "markdown",
   "metadata": {}
  },
  {
   "source": [
    "### Q1 a: Create the following Pandas DataFrame\n",
    "\n",
    "| Name | Age | Twitter.followers | HoursPW.on.twitter |\n",
    "| --- | --- | --- | --- |\n",
    "| Annette\t| 23 | \t23 |\t2 |\n",
    "| Boris |\t52 |\t102 |\t4 |\n",
    "| Christine |\t65 |\t57 |\t0 |\n",
    "| Daniel |\t45 |\t453 |\tNA |\n",
    "| Eve |\t25 |\t753 |\t3 |\n",
    "| Frances |\t35 |\tUnknown |\t1 |\n",
    "| Gabi |\t21 |\tUnknown | \t2 |\n"
   ],
   "cell_type": "markdown",
   "metadata": {}
  },
  {
   "cell_type": "code",
   "execution_count": null,
   "metadata": {},
   "outputs": [],
   "source": [
    "pass"
   ]
  },
  {
   "source": [
    "### Q1 b: For the DataFrame created above, perform the following operations to see who has the most followers:\n",
    "\n",
    "* If anyone has ‘Unknown’ number of followers, set this to be 0\n",
    "* Remove any rows that contain NA\n",
    "* Subtract 5 from each person’s Twitter.followers (to account for bots)\n",
    "* Filter the table to only include people who have more than 50 followers\n",
    "* Sort the table by the ascending number of twitter followers"
   ],
   "cell_type": "markdown",
   "metadata": {}
  },
  {
   "cell_type": "code",
   "execution_count": null,
   "metadata": {},
   "outputs": [],
   "source": [
    "pass"
   ]
  },
  {
   "source": [
    "### Q1 c: For the updated dataframe, try also performing the following operations:\n",
    "\n",
    "* Find the mean of each column\n",
    "* Return the value from the 2nd row and the 3rd column\n",
    "* Return the 3rd row from the column named ‘Name’\n",
    "* Drop all columns except for ‘Name’ and ‘Twitter.followers’.\n",
    "* How else could you only select these two columns?"
   ],
   "cell_type": "markdown",
   "metadata": {}
  },
  {
   "cell_type": "code",
   "execution_count": null,
   "metadata": {},
   "outputs": [],
   "source": [
    "pass"
   ]
  },
  {
   "source": [
    "## Part B: Finding aggregate information from a Pandas DataFrame"
   ],
   "cell_type": "markdown",
   "metadata": {}
  },
  {
   "source": [
    "### Q2 a: Use the following commands to create a new Pandas DataFrame:"
   ],
   "cell_type": "markdown",
   "metadata": {}
  },
  {
   "cell_type": "code",
   "execution_count": null,
   "metadata": {},
   "outputs": [],
   "source": [
    "input_data = [['Europe','UK', 'London', 'Rain', 15, 5],['Europe','France', 'Paris', 'Cloudy', 22, 3], ['Europe','Spain', 'Madrid', 'Sunny', 25, 4],['Asia','Afghanistan', 'Kabul', 'Sunny', 37, 2], ['Asia','Pakistan', 'Islamabad', 'Sunny', 32, 4],['Europe','Germany', 'Berlin', 'Cloudy', 20, 5] ]\n",
    "\n",
    "data = pd.DataFrame(input_data, columns = ['Continent', 'Country', 'Capital.city', 'Weather', 'Temperature', 'Visitor.rating'])"
   ]
  },
  {
   "source": [
    "### Q2 b: Update the DataFrame based on the following:\n",
    "\n",
    "* Create another row for a country of your choice, and merge\n",
    "* Create another column with a 0 or a 1 based on if you’ve been to each capital city"
   ],
   "cell_type": "markdown",
   "metadata": {}
  },
  {
   "cell_type": "code",
   "execution_count": null,
   "metadata": {},
   "outputs": [],
   "source": [
    "pass"
   ]
  },
  {
   "source": [
    "### Q3\n",
    "\n",
    "In Pandas we can easily group our data by one or more features, and then create a DataFrame with summary information about each group. \n",
    "\n",
    "We can do this using ```.groupby(col_name)``` followed by ```.agg()``` or ```.transform()```. Use these commands to answer the following questions:\n",
    "\n",
    "* Create a DataFrame with the average temperature for each Continent\n",
    "* Create a DataFrame with the minimum, median and maximum visitor rating for each Continent\n",
    "* Produce a copy of the original DataFrame, and without losing any rows add a column with the average temperature for the continent. E.g. for the first three rows this figure will be the same as all three rows relate to Europe."
   ],
   "cell_type": "markdown",
   "metadata": {}
  },
  {
   "cell_type": "code",
   "execution_count": null,
   "metadata": {},
   "outputs": [],
   "source": [
    "pass"
   ]
  },
  {
   "source": [
    "### Q4: Pokemon data analysis\n",
    "\n",
    "* Download the Pokemon dataset at PokemonData\n",
    "* Load the csv file into a dataframe and set the Name to be the index of the dataframe\n",
    "* Print the first 20 pokemons\n",
    "* Print the name of the columns\n",
    "* Print Type 1 and Generation for all pokemons\n",
    "* Get all the data for Pikachu\n",
    "* Get the number of nulls in each column\n",
    "* Use the unique function to display the unique values of column Type 1\n",
    "* For each unique value of Type 1 , print Name , Type 1 , Generation , and Legendary of the first 5 pokemons\n",
    "* Print all pokemons that have Water as Type 1 and Dragon as Type 2\n",
    "* Print all pokemons that are either Type 2 Electric or Type 2 Ice"
   ],
   "cell_type": "markdown",
   "metadata": {}
  },
  {
   "cell_type": "code",
   "execution_count": null,
   "metadata": {},
   "outputs": [],
   "source": [
    "pokemon = pd.read_csv(\"data/pokemon.csv\")\n",
    "pass"
   ]
  }
 ]
}